{
 "cells": [
  {
   "cell_type": "code",
   "execution_count": 1,
   "metadata": {
    "collapsed": true,
    "pycharm": {
     "name": "#%%\n"
    }
   },
   "outputs": [
    {
     "name": "stdout",
     "output_type": "stream",
     "text": [
      "Believed path is: /home/romanov/eic/eic_ai_pid/data/simulation\n"
     ]
    }
   ],
   "source": [
    "import numpy\n",
    "import pandas as pd\n",
    "import uproot\n",
    "import matplotlib\n",
    "import matplotlib.pyplot as plt\n",
    "import awkward as ak\n",
    "import hist\n",
    "import numpy as np\n",
    "from event_display import gdml_read_ecal_info\n",
    "import os\n",
    "\n",
    "%matplotlib inline\n",
    "matplotlib.rc(\"figure\", dpi=200)\n",
    "\n",
    "dir_path = os.path.dirname(os.path.realpath(\"__file__\"))\n",
    "print(f\"Believed path is: {dir_path}\")"
   ]
  },
  {
   "cell_type": "code",
   "execution_count": 2,
   "outputs": [],
   "source": [
    "container = numpy.load(\"../spot_gun_pions_0-12GeV_1000ev.npz\")"
   ],
   "metadata": {
    "collapsed": false,
    "pycharm": {
     "name": "#%%\n"
    }
   }
  },
  {
   "cell_type": "code",
   "execution_count": 3,
   "outputs": [
    {
     "name": "stdout",
     "output_type": "stream",
     "text": [
      "modules\n",
      "true_e\n",
      "true_x\n",
      "true_y\n",
      "true_pdg\n"
     ]
    }
   ],
   "source": [
    "for key in container:\n",
    "    print(key)\n",
    "#data = [container[key] for key in container]"
   ],
   "metadata": {
    "collapsed": false,
    "pycharm": {
     "name": "#%%\n"
    }
   }
  },
  {
   "cell_type": "code",
   "execution_count": 3,
   "outputs": [],
   "source": [],
   "metadata": {
    "collapsed": false,
    "pycharm": {
     "name": "#%%\n"
    }
   }
  },
  {
   "cell_type": "code",
   "execution_count": 4,
   "outputs": [],
   "source": [
    "modules = container[\"modules\"]\n",
    "true_e = container[\"true_e\"]"
   ],
   "metadata": {
    "collapsed": false,
    "pycharm": {
     "name": "#%%\n"
    }
   }
  },
  {
   "cell_type": "code",
   "execution_count": 5,
   "outputs": [
    {
     "data": {
      "text/plain": "(1000, 3721)"
     },
     "execution_count": 5,
     "metadata": {},
     "output_type": "execute_result"
    }
   ],
   "source": [
    "modules.shape"
   ],
   "metadata": {
    "collapsed": false,
    "pycharm": {
     "name": "#%%\n"
    }
   }
  },
  {
   "cell_type": "code",
   "execution_count": 6,
   "outputs": [
    {
     "data": {
      "text/plain": "         sums     true_e\n0    5.579192  10.432738\n1    2.523633   7.710862\n2    0.235165   5.356356\n3    0.189046   0.633974\n4    0.238658  11.738501\n..        ...        ...\n995  1.059049   4.506336\n996  0.244101   1.444595\n997  0.298402   0.555504\n998  2.612620   6.050884\n999  3.940345  10.365920\n\n[1000 rows x 2 columns]",
      "text/html": "<div>\n<style scoped>\n    .dataframe tbody tr th:only-of-type {\n        vertical-align: middle;\n    }\n\n    .dataframe tbody tr th {\n        vertical-align: top;\n    }\n\n    .dataframe thead th {\n        text-align: right;\n    }\n</style>\n<table border=\"1\" class=\"dataframe\">\n  <thead>\n    <tr style=\"text-align: right;\">\n      <th></th>\n      <th>sums</th>\n      <th>true_e</th>\n    </tr>\n  </thead>\n  <tbody>\n    <tr>\n      <th>0</th>\n      <td>5.579192</td>\n      <td>10.432738</td>\n    </tr>\n    <tr>\n      <th>1</th>\n      <td>2.523633</td>\n      <td>7.710862</td>\n    </tr>\n    <tr>\n      <th>2</th>\n      <td>0.235165</td>\n      <td>5.356356</td>\n    </tr>\n    <tr>\n      <th>3</th>\n      <td>0.189046</td>\n      <td>0.633974</td>\n    </tr>\n    <tr>\n      <th>4</th>\n      <td>0.238658</td>\n      <td>11.738501</td>\n    </tr>\n    <tr>\n      <th>...</th>\n      <td>...</td>\n      <td>...</td>\n    </tr>\n    <tr>\n      <th>995</th>\n      <td>1.059049</td>\n      <td>4.506336</td>\n    </tr>\n    <tr>\n      <th>996</th>\n      <td>0.244101</td>\n      <td>1.444595</td>\n    </tr>\n    <tr>\n      <th>997</th>\n      <td>0.298402</td>\n      <td>0.555504</td>\n    </tr>\n    <tr>\n      <th>998</th>\n      <td>2.612620</td>\n      <td>6.050884</td>\n    </tr>\n    <tr>\n      <th>999</th>\n      <td>3.940345</td>\n      <td>10.365920</td>\n    </tr>\n  </tbody>\n</table>\n<p>1000 rows × 2 columns</p>\n</div>"
     },
     "execution_count": 6,
     "metadata": {},
     "output_type": "execute_result"
    }
   ],
   "source": [
    "sums = modules.sum(axis=1)\n",
    "pd.DataFrame({\"sums\":sums, \"true_e\":true_e})"
   ],
   "metadata": {
    "collapsed": false,
    "pycharm": {
     "name": "#%%\n"
    }
   }
  },
  {
   "cell_type": "code",
   "execution_count": 7,
   "outputs": [
    {
     "data": {
      "text/plain": "61.0"
     },
     "execution_count": 7,
     "metadata": {},
     "output_type": "execute_result"
    }
   ],
   "source": [
    "np.sqrt(3721)"
   ],
   "metadata": {
    "collapsed": false,
    "pycharm": {
     "name": "#%%\n"
    }
   }
  },
  {
   "cell_type": "code",
   "execution_count": 8,
   "outputs": [
    {
     "name": "stdout",
     "output_type": "stream",
     "text": [
      "[[2.96391605e-04 4.99521289e-03 2.80272914e-04 4.28677583e-03\n",
      "  6.38725189e-03 9.05452948e-03 2.03842623e-03 3.27598979e-03\n",
      "  1.44687883e-05 5.33395832e-05 0.00000000e+00 0.00000000e+00]\n",
      " [1.95724965e-06 1.22314761e-03 4.90982144e-04 6.11559348e-03\n",
      "  7.95827340e-03 1.21829296e-02 5.47168357e-03 1.78141985e-03\n",
      "  7.47608915e-02 1.23545333e-05 1.67597718e-05 0.00000000e+00]\n",
      " [2.37737258e-05 3.51793878e-03 1.47998082e-02 2.49509998e-02\n",
      "  9.21665505e-02 2.05286350e-02 2.55793799e-02 4.43289131e-02\n",
      "  4.04931605e-02 1.74353551e-03 0.00000000e+00 0.00000000e+00]\n",
      " [8.20566413e-07 3.18294857e-03 1.34340525e-02 1.64255187e-01\n",
      "  2.33261392e-01 3.76606405e-01 1.86588049e-01 3.02850250e-02\n",
      "  5.27068786e-03 7.35103231e-06 4.96235998e-06 0.00000000e+00]\n",
      " [1.32953208e-02 8.87828972e-03 2.31288783e-02 6.41668886e-02\n",
      "  4.17233735e-01 1.81701565e+00 3.89505953e-01 2.25186925e-02\n",
      "  2.66812462e-03 5.31669881e-04 7.91025650e-06 0.00000000e+00]\n",
      " [8.09154153e-05 3.87377548e-03 4.26731072e-02 6.17689602e-02\n",
      "  1.45053267e-01 1.99541077e-01 4.47333902e-02 7.43610039e-02\n",
      "  5.46929566e-03 1.61043101e-03 1.49259821e-03 2.71465949e-04]\n",
      " [2.97731999e-03 3.56545276e-03 5.49833812e-02 5.73313795e-02\n",
      "  8.55384022e-02 4.47005965e-02 1.12629756e-02 3.43113430e-02\n",
      "  2.45340751e-03 8.94794648e-04 2.95496484e-05 7.70492945e-04]\n",
      " [3.28602875e-03 3.31518836e-02 3.03494856e-02 3.49938893e-03\n",
      "  6.70041982e-03 1.91545542e-02 9.99112986e-03 1.60691724e-03\n",
      "  1.80404366e-03 3.76391284e-07 1.19320039e-05 0.00000000e+00]\n",
      " [2.07217271e-03 3.18239396e-03 1.52585184e-04 2.07411314e-04\n",
      "  9.58718453e-03 8.39072466e-03 2.81291325e-02 2.20023002e-03\n",
      "  6.36436511e-04 1.03119621e-03 3.02253356e-05 2.63912352e-05]\n",
      " [2.41082185e-03 2.21491791e-03 1.55180146e-03 4.27837695e-05\n",
      "  2.53787567e-03 3.04577360e-03 5.52687645e-02 0.00000000e+00\n",
      "  2.86670402e-04 4.20022070e-06 5.48088246e-06 5.80990163e-04]\n",
      " [6.04777189e-04 3.18846153e-03 6.26915600e-03 2.16872650e-04\n",
      "  5.49079550e-06 6.21129014e-03 3.62741388e-02 1.36887329e-03\n",
      "  3.11704171e-05 2.85384152e-03 2.15110791e-04 3.03971523e-04]\n",
      " [9.35338845e-04 1.01369647e-02 2.07678109e-04 5.94499055e-03\n",
      "  1.18017953e-03 1.25695573e-04 4.47655475e-05 2.24892883e-05\n",
      "  1.02391082e-03 4.26031293e-05 1.54351688e-03 9.05354216e-04]]\n"
     ]
    }
   ],
   "source": [
    "data = np.reshape(modules, (len(modules), 61, 61))\n",
    "cropped = data[:, 31-6:31+6, 45-6:45+6]\n",
    "print(cropped[0])"
   ],
   "metadata": {
    "collapsed": false,
    "pycharm": {
     "name": "#%%\n"
    }
   }
  },
  {
   "cell_type": "code",
   "execution_count": 9,
   "outputs": [
    {
     "data": {
      "text/plain": "array([[ 0.21844312,  0.39627106,  0.58175539,  1.26280926,  1.62809972,\n         1.31333955,  1.23162549,  1.41435019,  0.69236764,  0.73688497,\n         0.50410251,  0.39500567],\n       [ 0.35718885,  0.47242019,  0.80355376,  1.54824788,  3.1064331 ,\n         3.62593338,  4.83630329,  3.03156446,  1.85371246,  1.53147078,\n         1.0284739 ,  0.41952094],\n       [ 0.66882422,  0.80388679,  1.80493341,  4.07663296,  7.01712444,\n        15.01794648, 24.00294773, 10.87170885,  4.53194755,  2.05238417,\n         0.96093551,  0.51379811],\n       [ 0.78846067,  1.75585646,  3.54763773, 18.08158872, 24.97892781,\n        38.47941453, 42.3613979 , 26.81680847, 12.78869445,  3.04426236,\n         1.64483561,  1.24115577],\n       [ 1.11367627,  2.08875802,  6.50832348, 22.87684051, 34.51008081,\n        35.13124064, 37.68035117, 36.98248788, 19.24878367,  8.23390524,\n         2.54372161,  1.40358084],\n       [ 1.05807384,  2.26641425,  6.96332299, 28.05941446, 24.07840559,\n        39.74700634, 34.45778433, 37.66441202, 25.61608585, 10.35377203,\n         3.02520578,  1.27552242],\n       [ 1.25980799,  2.3650544 , 11.10013311, 41.57807425, 40.2602361 ,\n        32.93022686, 33.37284818, 34.63440452, 25.9782655 , 17.39326596,\n         3.27829014,  1.14386125],\n       [ 1.01554653,  2.37682734,  8.75928056, 27.0526044 , 39.67364609,\n        32.82776847, 32.00763976, 33.17022596, 22.9066865 ,  8.25852763,\n         2.9457764 ,  1.23950745],\n       [ 1.192249  ,  2.13533515,  4.2392102 , 12.13574011, 30.71774249,\n        37.68685751, 34.81885938, 30.1865869 , 17.26214762,  5.14685467,\n         2.48687739,  1.20747013],\n       [ 0.89333835,  1.29568831,  1.7772021 ,  3.55585712,  5.67258653,\n        13.85373444, 15.5056265 ,  9.87252461,  5.74215735,  2.24892858,\n         1.4774944 ,  0.61420408],\n       [ 0.44790028,  0.66281074,  1.12798214,  1.51375949,  2.2212927 ,\n         3.3417404 ,  3.18595754,  2.71737574,  1.85137617,  1.37894711,\n         0.67010975,  0.50696843],\n       [ 0.54021511,  0.64570732,  0.59876055,  0.87289295,  1.29147122,\n         1.27046216,  1.5216399 ,  1.2535259 ,  0.92510487,  0.69319682,\n         0.44560335,  0.50953443]])"
     },
     "execution_count": 9,
     "metadata": {},
     "output_type": "execute_result"
    }
   ],
   "source": [
    "sum = cropped.sum(axis=0)\n",
    "sum"
   ],
   "metadata": {
    "collapsed": false,
    "pycharm": {
     "name": "#%%\n"
    }
   }
  },
  {
   "cell_type": "code",
   "execution_count": 10,
   "outputs": [
    {
     "data": {
      "text/plain": "<matplotlib.image.AxesImage at 0x7f8bba5cfcd0>"
     },
     "execution_count": 10,
     "metadata": {},
     "output_type": "execute_result"
    },
    {
     "data": {
      "text/plain": "<Figure size 1400x600 with 1 Axes>",
      "image/png": "[encoded data removed]"
     },
     "metadata": {
      "needs_background": "light"
     },
     "output_type": "display_data"
    }
   ],
   "source": [
    "fig = plt.figure(figsize=(7, 3))\n",
    "ax = fig.add_subplot(131, title='imshow: square bins')\n",
    "plt.imshow(sum, interpolation='nearest', origin='lower')"
   ],
   "metadata": {
    "collapsed": false,
    "pycharm": {
     "name": "#%%\n"
    }
   }
  },
  {
   "cell_type": "code",
   "execution_count": 11,
   "outputs": [],
   "source": [
    "# rng = np.random.default_rng()\n",
    "# rng.shuffle(cropped, axis=0)\n",
    "# sum2 = cropped.sum(axis=0)\n",
    "#\n",
    "# fig = plt.figure(figsize=(7, 3))\n",
    "# ax = fig.add_subplot(131, title='imshow: square bins')\n",
    "# plt.imshow(sum2, interpolation='nearest', origin='lower')"
   ],
   "metadata": {
    "collapsed": false,
    "pycharm": {
     "name": "#%%\n"
    }
   }
  },
  {
   "cell_type": "code",
   "execution_count": 12,
   "outputs": [],
   "source": [
    "arr = np.arange(9).reshape((3, 3))\n",
    "arr2 = np.arange(9).reshape((3, 3))"
   ],
   "metadata": {
    "collapsed": false,
    "pycharm": {
     "name": "#%%\n"
    }
   }
  },
  {
   "cell_type": "code",
   "execution_count": 13,
   "outputs": [],
   "source": [
    "def unison_shuffled_copies(a, b):\n",
    "    assert len(a) == len(b)\n",
    "    p = numpy.random.permutation(len(a))\n",
    "    return a[p], b[p]"
   ],
   "metadata": {
    "collapsed": false,
    "pycharm": {
     "name": "#%%\n"
    }
   }
  },
  {
   "cell_type": "code",
   "execution_count": 14,
   "outputs": [],
   "source": [
    "shuf_cr, shuf_e = unison_shuffled_copies(cropped, true_e)"
   ],
   "metadata": {
    "collapsed": false,
    "pycharm": {
     "name": "#%%\n"
    }
   }
  },
  {
   "cell_type": "code",
   "execution_count": 15,
   "outputs": [
    {
     "data": {
      "text/plain": "<matplotlib.image.AxesImage at 0x7f8bba5cf3d0>"
     },
     "execution_count": 15,
     "metadata": {},
     "output_type": "execute_result"
    },
    {
     "data": {
      "text/plain": "<Figure size 1400x600 with 1 Axes>",
      "image/png": "[encoded data removed]"
     },
     "metadata": {
      "needs_background": "light"
     },
     "output_type": "display_data"
    }
   ],
   "source": [
    "sum3 = shuf_cr.sum(axis=0)\n",
    "\n",
    "fig = plt.figure(figsize=(7, 3))\n",
    "ax = fig.add_subplot(131, title='imshow: square bins')\n",
    "plt.imshow(sum3, interpolation='nearest', origin='lower')"
   ],
   "metadata": {
    "collapsed": false,
    "pycharm": {
     "name": "#%%\n"
    }
   }
  },
  {
   "cell_type": "code",
   "execution_count": 15,
   "outputs": [],
   "source": [],
   "metadata": {
    "collapsed": false,
    "pycharm": {
     "name": "#%%\n"
    }
   }
  },
  {
   "cell_type": "code",
   "execution_count": 15,
   "outputs": [],
   "source": [],
   "metadata": {
    "collapsed": false,
    "pycharm": {
     "name": "#%%\n"
    }
   }
  },
  {
   "cell_type": "code",
   "execution_count": 15,
   "outputs": [],
   "source": [],
   "metadata": {
    "collapsed": false,
    "pycharm": {
     "name": "#%%\n"
    }
   }
  }
 ],
 "metadata": {
  "kernelspec": {
   "display_name": "Python 3",
   "language": "python",
   "name": "python3"
  },
  "language_info": {
   "codemirror_mode": {
    "name": "ipython",
    "version": 2
   },
   "file_extension": ".py",
   "mimetype": "text/x-python",
   "name": "python",
   "nbconvert_exporter": "python",
   "pygments_lexer": "ipython2",
   "version": "2.7.6"
  }
 },
 "nbformat": 4,
 "nbformat_minor": 0
}