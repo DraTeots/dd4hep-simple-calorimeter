{
 "cells": [
  {
   "cell_type": "code",
   "execution_count": 1,
   "outputs": [
    {
     "name": "stdout",
     "output_type": "stream",
     "text": [
      "Believed path is: /home/romanov/eic/kak-bog-cherepahu/simulation\n"
     ]
    }
   ],
   "source": [
    "import uproot\n",
    "import matplotlib\n",
    "import matplotlib.pyplot as plt\n",
    "import awkward as ak\n",
    "import hist\n",
    "import numpy as np\n",
    "from event_display import gdml_read_ecal_info\n",
    "import os\n",
    "import pandas as pd\n",
    "\n",
    "%matplotlib inline\n",
    "matplotlib.rc(\"figure\", dpi=200)\n",
    "\n",
    "dir_path = os.path.dirname(os.path.realpath(\"__file__\"))\n",
    "print(f\"Believed path is: {dir_path}\")"
   ],
   "metadata": {
    "collapsed": false
   }
  },
  {
   "cell_type": "code",
   "execution_count": 2,
   "outputs": [],
   "source": [
    "# Data file name\n",
    "#data_file_name = f\"{dir_path}/data/test_gun.edm4hep.root\"\n",
    "file_event_num = 10000\n",
    "\n",
    "# Number of events to process:\n",
    "entry_start = 0                     # (!) Try changing those\n",
    "entry_stop = file_event_num         # <==\n",
    "events_to_read = entry_stop-entry_start\n",
    "\n",
    "# base_name = 'disk_gun_piminus_0-15GeV'\n",
    "base_name = '2022-11-22_pgun_pi-_wall_only_e0.01-10GeV_center_1prt_10000evt'\n",
    "root_file_name = f\"{dir_path}/{base_name}.edm4hep.root\"\n",
    "output_file = f'{dir_path}/{base_name}.npz'"
   ],
   "metadata": {
    "collapsed": false
   }
  },
  {
   "cell_type": "code",
   "execution_count": 3,
   "outputs": [],
   "source": [
    "# Open root file and get \"events\" tree from it\n",
    "tree = uproot.open(root_file_name)[\"events\"]\n",
    "\n",
    "# Read fields from a file\n",
    "gen_status = tree['MCParticles/MCParticles.generatorStatus'].array(entry_start=entry_start, entry_stop=entry_stop)\n",
    "masses = tree['MCParticles/MCParticles.mass'].array(entry_start=entry_start, entry_stop=entry_stop)\n",
    "px = tree['MCParticles/MCParticles.momentum.x'].array(entry_start=entry_start, entry_stop=entry_stop)\n",
    "py = tree['MCParticles/MCParticles.momentum.y'].array(entry_start=entry_start, entry_stop=entry_stop)\n",
    "pz = tree['MCParticles/MCParticles.momentum.z'].array(entry_start=entry_start, entry_stop=entry_stop)\n",
    "pdg = tree['MCParticles/MCParticles.PDG'].array(entry_start=entry_start, entry_stop=entry_stop)\n",
    "pos_x = tree['MCParticles/MCParticles.vertex.x'].array(entry_start=entry_start, entry_stop=entry_stop)\n",
    "pos_y = tree['MCParticles/MCParticles.vertex.y'].array(entry_start=entry_start, entry_stop=entry_stop)\n",
    "pos_z = tree['MCParticles/MCParticles.vertex.z'].array(entry_start=entry_start, entry_stop=entry_stop)\n",
    "\n",
    "# 'stable' are particles from particle gun\n",
    "stable_only = gen_status > 0\n",
    "\n",
    "# filter other particles\n",
    "masses = masses[stable_only]\n",
    "px = px[stable_only]\n",
    "py = py[stable_only]\n",
    "pz = pz[stable_only]\n",
    "pdg = ak.flatten(pdg[stable_only]).to_numpy()\n",
    "pos_x = ak.flatten(pos_x[stable_only]).to_numpy()\n",
    "pos_y = ak.flatten(pos_y[stable_only]).to_numpy()\n",
    "pos_z = ak.flatten(pos_z[stable_only]).to_numpy()\n",
    "\n",
    "# calculate energy\n",
    "energies = np.sqrt(masses * masses + px * px + py * py + pz * pz)\n",
    "energies = ak.flatten(energies).to_numpy()\n"
   ],
   "metadata": {
    "collapsed": false
   }
  },
  {
   "cell_type": "code",
   "execution_count": 4,
   "outputs": [],
   "source": [
    "assert len(pos_x)==events_to_read\n",
    "assert len(pos_y)==events_to_read\n",
    "assert len(energies)==events_to_read\n"
   ],
   "metadata": {
    "collapsed": false
   }
  },
  {
   "cell_type": "code",
   "execution_count": 5,
   "outputs": [
    {
     "name": "stdout",
     "output_type": "stream",
     "text": [
      "module_size_x    : 2.0\n",
      "module_size_y    : 2.0\n",
      "module_size_z    : 20.0\n",
      "total_modules    : 169\n",
      "num_modules_x    : 13\n",
      "num_modules_y    : 13\n",
      "min_x            : -12.299999999999999\n",
      "max_x            : 12.299999999999999\n",
      "min_y            : -12.299999999999999\n",
      "max_y            : 12.299999999999999\n",
      "min_z            : 0.0\n",
      "max_z            : 0.0\n",
      "border_left      : -13.299999999999999\n",
      "border_right     : 13.299999999999999\n",
      "border_top       : 13.299999999999999\n",
      "border_bottom    : -13.299999999999999\n",
      "unit             : cm\n"
     ]
    }
   ],
   "source": [
    "# Load geometry file\n",
    "ecal_info = gdml_read_ecal_info(f\"{dir_path}/wall_only.gdml\")\n",
    "\n",
    "# ecal_info is of EcalGeoInfo class, which is a helper holding information\n",
    "# about all needed ecal geometries.\n",
    "# Print what information it holds:\n",
    "ecal_info.print()"
   ],
   "metadata": {
    "collapsed": false
   }
  },
  {
   "cell_type": "code",
   "execution_count": 6,
   "outputs": [],
   "source": [
    "events = ecal_info.read_events_from_file(root_file_name, 0, file_event_num)\n",
    "\n",
    "assert len(events) == len(energies)"
   ],
   "metadata": {
    "collapsed": false
   }
  },
  {
   "cell_type": "code",
   "execution_count": 7,
   "outputs": [
    {
     "name": "stdout",
     "output_type": "stream",
     "text": [
      "Original shape (10000, 13, 13)\n",
      "Flatten shape (10000, 169)\n"
     ]
    }
   ],
   "source": [
    "original_shape = np.shape(events)\n",
    "print(f\"Original shape {original_shape}\")\n",
    "\n",
    "flatten_shape = (original_shape[0], original_shape[1] * original_shape[2])\n",
    "print(f\"Flatten shape {flatten_shape}\")\n",
    "reshaped_events = np.reshape(events, flatten_shape)"
   ],
   "metadata": {
    "collapsed": false
   }
  },
  {
   "cell_type": "code",
   "execution_count": 8,
   "outputs": [],
   "source": [
    "masses = masses[stable_only]\n",
    "px = px[stable_only]\n",
    "py = py[stable_only]\n",
    "pz = pz[stable_only]"
   ],
   "metadata": {
    "collapsed": false
   }
  },
  {
   "cell_type": "code",
   "execution_count": 9,
   "outputs": [],
   "source": [
    "np.savez_compressed(output_file, modules=reshaped_events, true_e=energies, true_x=pos_x, true_y=pos_y, true_pdg=pdg)"
   ],
   "metadata": {
    "collapsed": false
   }
  }
 ],
 "metadata": {
  "kernelspec": {
   "display_name": "Python 3",
   "language": "python",
   "name": "python3"
  },
  "language_info": {
   "codemirror_mode": {
    "name": "ipython",
    "version": 2
   },
   "file_extension": ".py",
   "mimetype": "text/x-python",
   "name": "python",
   "nbconvert_exporter": "python",
   "pygments_lexer": "ipython2",
   "version": "2.7.6"
  }
 },
 "nbformat": 4,
 "nbformat_minor": 0
}
