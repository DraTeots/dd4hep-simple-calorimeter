{
 "cells": [
  {
   "cell_type": "code",
   "execution_count": 1,
   "metadata": {
    "collapsed": true
   },
   "outputs": [
    {
     "data": {
      "text/plain": "'/home/romanov/eic/kak-bog-cherepahu/simulation'"
     },
     "execution_count": 1,
     "metadata": {},
     "output_type": "execute_result"
    }
   ],
   "source": [
    "import uproot\n",
    "import matplotlib\n",
    "import matplotlib.pyplot as plt\n",
    "import awkward as ak\n",
    "import hist\n",
    "import numpy as np\n",
    "from event_display import gdml_read_ecal_info\n",
    "import os\n",
    "\n",
    "%matplotlib inline\n",
    "matplotlib.rc(\"figure\", dpi=200)\n",
    "\n",
    "dir_path = os.path.dirname(os.path.realpath(\"__file__\"))\n",
    "dir_path"
   ]
  },
  {
   "cell_type": "code",
   "execution_count": 2,
   "outputs": [
    {
     "name": "stdout",
     "output_type": "stream",
     "text": [
      "module_size_x    : 2.0\n",
      "module_size_y    : 2.0\n",
      "module_size_z    : 20.0\n",
      "total_modules    : 169\n",
      "num_modules_x    : 13\n",
      "num_modules_y    : 13\n",
      "min_x            : -12.299999999999999\n",
      "max_x            : 12.299999999999999\n",
      "min_y            : -12.299999999999999\n",
      "max_y            : 12.299999999999999\n",
      "min_z            : 0.0\n",
      "max_z            : 0.0\n",
      "border_left      : -13.299999999999999\n",
      "border_right     : 13.299999999999999\n",
      "border_top       : 13.299999999999999\n",
      "border_bottom    : -13.299999999999999\n",
      "unit             : cm\n"
     ]
    }
   ],
   "source": [
    "# Load geometry file\n",
    "ecal_info = gdml_read_ecal_info(f\"{dir_path}/wall_only.gdml\")\n",
    "\n",
    "# ecal_info is of EcalGeoInfo class, which is a helper holding information\n",
    "# about all needed ecal geometries.\n",
    "# Print what information it holds:\n",
    "ecal_info.print()\n",
    "\n",
    "# Data file name\n",
    "#data_file_name = f\"{dir_path}/data/test_gun.edm4hep.root\"\n",
    "#data_file_name = f\"{dir_path}/../disk_gun_electrons_0-15GeV_100000ev.edm4hep.root\"\n",
    "#data_file_name = f\"{dir_path}/../2022-11-22_pgun_pi-_wall_only_e0.01-30GeV_alldir_1prt_100evt.edm4hep.root\""
   ],
   "metadata": {
    "collapsed": false
   }
  },
  {
   "cell_type": "code",
   "execution_count": 2,
   "outputs": [],
   "source": [],
   "metadata": {
    "collapsed": false
   }
  },
  {
   "cell_type": "code",
   "execution_count": 3,
   "outputs": [],
   "source": [
    "data_file_name = f\"/home/romanov/eic/kak-bog-cherepahu/glass-prototype/cmake-build-debug/output/SciGlass-4-1-L-13x13-20x20x200mm-1.5GeV-10000events-e--40mm-R1450.root\"\n",
    "# Open root file and get \"events\" tree from it\n",
    "tree = uproot.open(data_file_name)[\"tree_crystals\"]\n",
    "\n",
    "# Number of events to process:\n",
    "entry_start = 0                  # (!) Try changing those\n",
    "entry_stop = 100000                # <==\n",
    "\n",
    "def get_flatten_branch_data(branch_name):\n",
    "    \"\"\" Simple helper function to read events and flatten the results\"\"\"\n",
    "    data = tree[branch_name].array(entry_start=entry_start, entry_stop=entry_stop)\n",
    "    data = ak.flatten(data).to_numpy()\n",
    "    return data\n",
    "\n",
    "def plot_branch_h1(branch_name, title, ax, bins, limit, mask=None):\n",
    "    \"\"\" Helper plots 1d histogram by branch name. Data gets flatten in process\"\"\"\n",
    "    data = get_flatten_branch_data(branch_name)\n",
    "    if mask is not None:\n",
    "        data = data[mask]\n",
    "    hst_1d = hist.Hist(hist.axis.Regular(bins=bins, start=limit[0], stop=limit[1], name=title))\n",
    "    hst_1d.fill(data)\n",
    "    return hst_1d,hst_1d.plot(ax=ax)\n",
    "\n",
    "\n",
    "# Read energies, x and y positions\n",
    "# Flatten arrays for simplicity\n",
    "energies = get_flatten_branch_data('edep')\n",
    "# hits_x = get_flatten_branch_data('WallECalHits/WallECalHits.position.x')\n",
    "# hits_y = get_flatten_branch_data('WallECalHits/WallECalHits.position.y')"
   ],
   "metadata": {
    "collapsed": false
   }
  },
  {
   "cell_type": "code",
   "execution_count": 4,
   "outputs": [
    {
     "data": {
      "text/plain": "['edep']"
     },
     "execution_count": 4,
     "metadata": {},
     "output_type": "execute_result"
    }
   ],
   "source": [
    "# Uncomment this to see all values:\n",
    "#tree.show()\n",
    "\n",
    "names = [key for key in tree.keys()]\n",
    "names\n"
   ],
   "metadata": {
    "collapsed": false
   }
  },
  {
   "cell_type": "code",
   "execution_count": 5,
   "outputs": [],
   "source": [
    "module_de_flat = tree['edep'].array(entry_start=entry_start, entry_stop=entry_stop).to_numpy()"
   ],
   "metadata": {
    "collapsed": false
   }
  },
  {
   "cell_type": "code",
   "execution_count": 6,
   "outputs": [],
   "source": [
    "#ak.sum(energies)\n",
    "\n",
    "module_de = np.reshape(module_de_flat, (len(module_de_flat), 13, 13))\n"
   ],
   "metadata": {
    "collapsed": false
   }
  },
  {
   "cell_type": "code",
   "execution_count": 7,
   "outputs": [
    {
     "data": {
      "text/plain": "(10000, 13, 13)"
     },
     "execution_count": 7,
     "metadata": {},
     "output_type": "execute_result"
    }
   ],
   "source": [
    "np.shape(module_de)"
   ],
   "metadata": {
    "collapsed": false
   }
  },
  {
   "cell_type": "code",
   "execution_count": 8,
   "outputs": [
    {
     "data": {
      "text/plain": "array([[0.00000000e+00, 5.10998910e-01, 1.13569926e-01, 0.00000000e+00,\n        0.00000000e+00, 1.66881391e-01, 1.48138729e-01, 0.00000000e+00,\n        0.00000000e+00, 0.00000000e+00, 0.00000000e+00, 0.00000000e+00,\n        0.00000000e+00],\n       [0.00000000e+00, 0.00000000e+00, 0.00000000e+00, 0.00000000e+00,\n        0.00000000e+00, 0.00000000e+00, 2.10438345e+00, 0.00000000e+00,\n        7.65473713e-01, 3.86415714e-01, 0.00000000e+00, 0.00000000e+00,\n        0.00000000e+00],\n       [0.00000000e+00, 0.00000000e+00, 0.00000000e+00, 4.81592882e-02,\n        0.00000000e+00, 9.09282344e-01, 2.20376023e-01, 0.00000000e+00,\n        1.47066894e-01, 2.79568109e-01, 0.00000000e+00, 0.00000000e+00,\n        0.00000000e+00],\n       [0.00000000e+00, 0.00000000e+00, 1.25253690e+00, 0.00000000e+00,\n        5.06692656e-01, 5.08290857e-01, 3.30278374e-01, 7.38140158e-01,\n        1.61806634e-01, 0.00000000e+00, 0.00000000e+00, 0.00000000e+00,\n        0.00000000e+00],\n       [0.00000000e+00, 0.00000000e+00, 2.84992896e+00, 2.08887947e+00,\n        2.60445980e+00, 6.85151786e-01, 7.48692336e-01, 7.12244608e-01,\n        7.24920646e-02, 4.11387168e-01, 0.00000000e+00, 0.00000000e+00,\n        0.00000000e+00],\n       [0.00000000e+00, 3.08963957e-01, 3.50277521e-01, 9.22724970e-01,\n        2.18751023e+00, 1.79084337e+01, 8.04720765e+00, 9.43831337e+00,\n        2.18514535e+00, 0.00000000e+00, 0.00000000e+00, 0.00000000e+00,\n        0.00000000e+00],\n       [4.11556562e-01, 1.24312350e-01, 9.89232436e-02, 9.09102201e-01,\n        1.08689205e+01, 1.92453641e+02, 7.94416313e+02, 3.22655463e+01,\n        1.80435407e+00, 9.17560042e-01, 4.81960716e-01, 0.00000000e+00,\n        0.00000000e+00],\n       [1.98950482e+00, 1.50914112e+00, 4.09949794e-01, 3.19918522e+00,\n        3.11154273e+00, 5.10232210e+01, 7.99513637e+01, 1.32250467e+01,\n        2.24168261e+00, 0.00000000e+00, 0.00000000e+00, 0.00000000e+00,\n        0.00000000e+00],\n       [2.13063840e-01, 0.00000000e+00, 2.56641984e-01, 1.32582036e+00,\n        3.36471494e+00, 3.07611783e+00, 4.95341406e+00, 1.81617310e+00,\n        0.00000000e+00, 2.75996339e-01, 0.00000000e+00, 0.00000000e+00,\n        0.00000000e+00],\n       [0.00000000e+00, 0.00000000e+00, 1.17332134e+00, 2.96402638e-01,\n        7.10756147e-01, 8.96919529e+00, 5.93520569e-01, 0.00000000e+00,\n        0.00000000e+00, 0.00000000e+00, 0.00000000e+00, 0.00000000e+00,\n        0.00000000e+00],\n       [0.00000000e+00, 0.00000000e+00, 0.00000000e+00, 0.00000000e+00,\n        3.71186566e-01, 0.00000000e+00, 3.47043135e-01, 0.00000000e+00,\n        0.00000000e+00, 0.00000000e+00, 2.48194975e-01, 0.00000000e+00,\n        0.00000000e+00],\n       [0.00000000e+00, 0.00000000e+00, 0.00000000e+00, 0.00000000e+00,\n        0.00000000e+00, 0.00000000e+00, 3.47893126e-01, 4.34961619e-01,\n        0.00000000e+00, 0.00000000e+00, 2.19703703e-01, 0.00000000e+00,\n        0.00000000e+00],\n       [0.00000000e+00, 0.00000000e+00, 0.00000000e+00, 0.00000000e+00,\n        0.00000000e+00, 0.00000000e+00, 2.63718648e-01, 0.00000000e+00,\n        0.00000000e+00, 0.00000000e+00, 0.00000000e+00, 0.00000000e+00,\n        0.00000000e+00]])"
     },
     "execution_count": 8,
     "metadata": {},
     "output_type": "execute_result"
    }
   ],
   "source": [
    "module_de[0]"
   ],
   "metadata": {
    "collapsed": false
   }
  },
  {
   "cell_type": "code",
   "execution_count": 9,
   "outputs": [],
   "source": [
    "#from event_display import print_tabled_event\n",
    "\n",
    "#print_tabled_event(module_de[0])"
   ],
   "metadata": {
    "collapsed": false
   }
  },
  {
   "cell_type": "code",
   "execution_count": 13,
   "outputs": [
    {
     "data": {
      "text/plain": "(<Figure size 1200x800 with 2 Axes>, <AxesSubplot:>)"
     },
     "execution_count": 13,
     "metadata": {},
     "output_type": "execute_result"
    },
    {
     "data": {
      "text/plain": "<Figure size 1200x800 with 2 Axes>",
      "image/png": "[encoded data removed]"
     },
     "metadata": {
      "needs_background": "light"
     },
     "output_type": "display_data"
    }
   ],
   "source": [
    "from event_display import table_display\n",
    "\n",
    "table_display(module_de[3], cal_size=13, value_is_arr=False)"
   ],
   "metadata": {
    "collapsed": false
   }
  },
  {
   "cell_type": "code",
   "execution_count": 16,
   "outputs": [
    {
     "data": {
      "text/plain": "(10000,)"
     },
     "execution_count": 16,
     "metadata": {},
     "output_type": "execute_result"
    }
   ],
   "source": [
    "np.shape( np.sum(module_de_flat, axis=1))"
   ],
   "metadata": {
    "collapsed": false
   }
  },
  {
   "cell_type": "code",
   "execution_count": 17,
   "outputs": [],
   "source": [
    "sum_energies = np.sum(module_de_flat, axis=1)"
   ],
   "metadata": {
    "collapsed": false
   }
  },
  {
   "cell_type": "code",
   "execution_count": 21,
   "outputs": [],
   "source": [
    "def read_modules_de(file_name, entry_start = 0, entry_stop = 100000):\n",
    "    tree = uproot.open(data_file_name)[\"tree_crystals\"]\n",
    "    module_de_flat = tree['edep'].array(entry_start=entry_start, entry_stop=entry_stop).to_numpy()\n",
    "    return module_de_flat\n"
   ],
   "metadata": {
    "collapsed": false
   }
  },
  {
   "cell_type": "code",
   "execution_count": 26,
   "outputs": [],
   "source": [
    "pi_de_flat = read_modules_de(\"/home/romanov/eic/kak-bog-cherepahu/glass-prototype/cmake-build-debug/output/SciGlass-4-1-L-13x13-20x20x200mm-1.5GeV-10000events-pi--40mm-R1450.root\")"
   ],
   "metadata": {
    "collapsed": false
   }
  },
  {
   "cell_type": "code",
   "execution_count": 1,
   "outputs": [
    {
     "ename": "NameError",
     "evalue": "name 'np' is not defined",
     "output_type": "error",
     "traceback": [
      "\u001B[0;31m---------------------------------------------------------------------------\u001B[0m",
      "\u001B[0;31mNameError\u001B[0m                                 Traceback (most recent call last)",
      "Input \u001B[0;32mIn [1]\u001B[0m, in \u001B[0;36m<cell line: 1>\u001B[0;34m()\u001B[0m\n\u001B[0;32m----> 1\u001B[0m pi_sum_e \u001B[38;5;241m=\u001B[39m \u001B[43mnp\u001B[49m\u001B[38;5;241m.\u001B[39msum(pi_de_flat, axis\u001B[38;5;241m=\u001B[39m\u001B[38;5;241m1\u001B[39m)\n",
      "\u001B[0;31mNameError\u001B[0m: name 'np' is not defined"
     ]
    }
   ],
   "source": [
    "pi_sum_e = np.sum(pi_de_flat, axis=1)"
   ],
   "metadata": {
    "collapsed": false
   }
  },
  {
   "cell_type": "code",
   "execution_count": 28,
   "outputs": [
    {
     "data": {
      "text/plain": "(array([  2.,   1.,   0.,   1.,   1.,   3.,   2.,   4.,   5.,   3.,   7.,\n          6.,   9.,   4.,  17.,  11.,  15.,  27.,  24.,  29.,  24.,  30.,\n         40.,  43.,  57.,  72.,  89.,  86., 117., 136., 189., 212., 254.,\n        308., 372., 450., 507., 553., 641., 741., 780., 883., 861., 753.,\n        619., 487., 322., 135.,  58.,  10.]),\n array([0.06720749, 0.08476655, 0.1023256 , 0.11988465, 0.1374437 ,\n        0.15500275, 0.17256181, 0.19012086, 0.20767991, 0.22523896,\n        0.24279802, 0.26035707, 0.27791612, 0.29547517, 0.31303422,\n        0.33059328, 0.34815233, 0.36571138, 0.38327043, 0.40082949,\n        0.41838854, 0.43594759, 0.45350664, 0.47106569, 0.48862475,\n        0.5061838 , 0.52374285, 0.5413019 , 0.55886096, 0.57642001,\n        0.59397906, 0.61153811, 0.62909716, 0.64665622, 0.66421527,\n        0.68177432, 0.69933337, 0.71689243, 0.73445148, 0.75201053,\n        0.76956958, 0.78712863, 0.80468769, 0.82224674, 0.83980579,\n        0.85736484, 0.8749239 , 0.89248295, 0.910042  , 0.92760105,\n        0.94516011]),\n <BarContainer object of 50 artists>)"
     },
     "execution_count": 28,
     "metadata": {},
     "output_type": "execute_result"
    },
    {
     "data": {
      "text/plain": "<Figure size 1200x800 with 1 Axes>",
      "image/png": "[encoded data removed]"
     },
     "metadata": {
      "needs_background": "light"
     },
     "output_type": "display_data"
    }
   ],
   "source": [
    "fig, axs = plt.subplots()\n",
    "\n",
    "# We can set the number of bins with the *bins* keyword argument.\n",
    "axs.hist(pi_sum_e/1500, bins=50)"
   ],
   "metadata": {
    "collapsed": false
   }
  },
  {
   "cell_type": "code",
   "execution_count": 29,
   "outputs": [
    {
     "data": {
      "text/plain": "(array([  2.,   1.,   0.,   1.,   1.,   3.,   2.,   4.,   5.,   3.,   7.,\n          6.,   9.,   4.,  17.,  11.,  15.,  27.,  24.,  29.,  24.,  30.,\n         40.,  43.,  57.,  72.,  89.,  86., 117., 136., 189., 212., 254.,\n        308., 372., 450., 507., 553., 641., 741., 780., 883., 861., 753.,\n        619., 487., 322., 135.,  58.,  10.]),\n array([0.06720749, 0.08476655, 0.1023256 , 0.11988465, 0.1374437 ,\n        0.15500275, 0.17256181, 0.19012086, 0.20767991, 0.22523896,\n        0.24279802, 0.26035707, 0.27791612, 0.29547517, 0.31303422,\n        0.33059328, 0.34815233, 0.36571138, 0.38327043, 0.40082949,\n        0.41838854, 0.43594759, 0.45350664, 0.47106569, 0.48862475,\n        0.5061838 , 0.52374285, 0.5413019 , 0.55886096, 0.57642001,\n        0.59397906, 0.61153811, 0.62909716, 0.64665622, 0.66421527,\n        0.68177432, 0.69933337, 0.71689243, 0.73445148, 0.75201053,\n        0.76956958, 0.78712863, 0.80468769, 0.82224674, 0.83980579,\n        0.85736484, 0.8749239 , 0.89248295, 0.910042  , 0.92760105,\n        0.94516011]),\n <BarContainer object of 50 artists>)"
     },
     "execution_count": 29,
     "metadata": {},
     "output_type": "execute_result"
    },
    {
     "data": {
      "text/plain": "<Figure size 1200x800 with 1 Axes>",
      "image/png": "[encoded data removed]"
     },
     "metadata": {
      "needs_background": "light"
     },
     "output_type": "display_data"
    }
   ],
   "source": [
    "fig, axs = plt.subplots()\n",
    "\n",
    "# We can set the number of bins with the *bins* keyword argument.\n",
    "axs.hist(sum_energies/1500, bins=50)\n"
   ],
   "metadata": {
    "collapsed": false
   }
  },
  {
   "cell_type": "code",
   "execution_count": null,
   "outputs": [],
   "source": [
    "# Build the histogram\n",
    "# noinspection PyTypeChecker\n",
    "hits_h2d = hist.Hist(\n",
    "    hist.axis.Regular(bins=69, start=-700, stop=700, name=\"x\"),\n",
    "    hist.axis.Regular(bins=69, start=-700, stop=700, name=\"y\"),)\n",
    "\n",
    "hits_h2d.fill(hits_x, hits_y)\n",
    "\n",
    "fig, ax = plt.subplots(figsize=(5,5))\n",
    "ax.autoscale()\n",
    "ax.axis('equal')\n",
    "hits_h2d.plot2d(ax=ax)"
   ],
   "metadata": {
    "collapsed": false
   }
  },
  {
   "cell_type": "code",
   "execution_count": null,
   "outputs": [],
   "source": [
    "# Read true particle momentums\n",
    "generatorStatus = get_flatten_branch_data('MCParticles/MCParticles.generatorStatus')\n",
    "stable_only = generatorStatus > 0\n",
    "# Fill histograms\n",
    "fig, axs = plt.subplots(1,3, figsize=(8,2))\n",
    "\n",
    "plot_branch_h1('MCParticles/MCParticles.momentum.x', 'px', axs[0], 100, (-1,1), stable_only)\n",
    "plot_branch_h1('MCParticles/MCParticles.momentum.y', 'py', axs[1], 100, (-1,1), stable_only)\n",
    "plot_branch_h1('MCParticles/MCParticles.momentum.z', 'pz', axs[2], 100, (1, 20), stable_only)"
   ],
   "metadata": {
    "collapsed": false
   }
  },
  {
   "cell_type": "code",
   "execution_count": null,
   "outputs": [],
   "source": [
    "fig, axs = plt.subplots(1,3, figsize=(8,2))\n",
    "plot_branch_h1('MCParticles/MCParticles.vertex.x', 'vtx_x', axs[0], 100, (-600,600), stable_only)\n",
    "plot_branch_h1('MCParticles/MCParticles.vertex.y', 'vtx_y', axs[1], 100, (-600,600), stable_only)\n",
    "plot_branch_h1('MCParticles/MCParticles.vertex.z', 'vtx_z', axs[2], 100, (-2000,1800), stable_only)"
   ],
   "metadata": {
    "collapsed": false
   }
  },
  {
   "cell_type": "code",
   "execution_count": null,
   "outputs": [],
   "source": [
    "fig, axs = plt.subplots(1,3, figsize=(9,2))\n",
    "plot_branch_h1('MCParticles/MCParticles.endpoint.x', 'endpoint x', axs[0], 100, (-200,200), stable_only)\n",
    "plot_branch_h1('MCParticles/MCParticles.endpoint.y', 'endpoint y', axs[1], 100, (-200,200), stable_only)\n",
    "plot_branch_h1('MCParticles/MCParticles.endpoint.z', 'endpoint z', axs[2], 100, (0, 2000), stable_only)"
   ],
   "metadata": {
    "collapsed": false
   }
  },
  {
   "cell_type": "code",
   "execution_count": null,
   "outputs": [],
   "source": [
    "fig, ax = plt.subplots(figsize=(5,4))\n",
    "plot_branch_h1('MCParticles/MCParticles.endpoint.z', 'endpoint z', ax, 200, (0,500), stable_only)"
   ],
   "metadata": {
    "collapsed": false
   }
  },
  {
   "cell_type": "code",
   "execution_count": null,
   "outputs": [],
   "source": [
    "fig, ax = plt.subplots(figsize=(5, 4))\n",
    "plot_branch_h1('MCParticles/MCParticles.endpoint.z', 'endpoint z', ax, 200, (-2100, -1900), stable_only)"
   ],
   "metadata": {
    "collapsed": false
   }
  },
  {
   "cell_type": "code",
   "execution_count": null,
   "outputs": [],
   "source": [
    "vtx_x = tree['MCParticles/MCParticles.vertex.x'].array(entry_start=entry_start, entry_stop=entry_stop)"
   ],
   "metadata": {
    "collapsed": false
   }
  }
 ],
 "metadata": {
  "kernelspec": {
   "display_name": "Python 3",
   "language": "python",
   "name": "python3"
  },
  "language_info": {
   "codemirror_mode": {
    "name": "ipython",
    "version": 2
   },
   "file_extension": ".py",
   "mimetype": "text/x-python",
   "name": "python",
   "nbconvert_exporter": "python",
   "pygments_lexer": "ipython2",
   "version": "2.7.6"
  }
 },
 "nbformat": 4,
 "nbformat_minor": 0
}
