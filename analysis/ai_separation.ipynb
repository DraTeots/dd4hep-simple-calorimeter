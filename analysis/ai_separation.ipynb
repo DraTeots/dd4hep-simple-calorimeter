{
 "cells": [
  {
   "cell_type": "code",
   "execution_count": 9,
   "metadata": {},
   "outputs": [
    {
     "name": "stdout",
     "output_type": "stream",
     "text": [
      "/home/romanov/anaconda3/envs/ai/bin\n"
     ]
    }
   ],
   "source": [
    "# Keras Geant3 Events to True table convolutional autoencoder\n",
    "import sys, os\n",
    "print(os.path.dirname(sys.executable))\n",
    "\n",
    "import pickle\n",
    "import time\n",
    "import os\n",
    "from sys import platform\n",
    "\n",
    "import numpy as np\n",
    "import matplotlib.pyplot as plt\n",
    "\n",
    "from event_display import print_tabled_event\n",
    "\n",
    "from keras.models import Sequential\n",
    "from keras.layers import Dense, MaxPooling2D, Conv2D, Flatten, UpSampling2D, Cropping2D, Input, Conv2DTranspose, Dropout\n",
    "from keras.utils import plot_model\n",
    "#import tensorflow as tf\n",
    "#import keras\n",
    "os.environ[\"CUDA_VISIBLE_DEVICES\"] = \"-1\"\n",
    "#print(tf.version)\n",
    "#keras.backend.tensorflow_backend.set_session(tf.Session(config=config))\n"
   ]
  },
  {
   "cell_type": "code",
   "execution_count": 10,
   "metadata": {},
   "outputs": [
    {
     "data": {
      "text/html": [
       "<div>\n",
       "<style scoped>\n",
       "    .dataframe tbody tr th:only-of-type {\n",
       "        vertical-align: middle;\n",
       "    }\n",
       "\n",
       "    .dataframe tbody tr th {\n",
       "        vertical-align: top;\n",
       "    }\n",
       "\n",
       "    .dataframe thead th {\n",
       "        text-align: right;\n",
       "    }\n",
       "</style>\n",
       "<table border=\"1\" class=\"dataframe\">\n",
       "  <thead>\n",
       "    <tr style=\"text-align: right;\">\n",
       "      <th></th>\n",
       "      <th>p</th>\n",
       "      <th>prt_name</th>\n",
       "      <th>de_sum</th>\n",
       "      <th>towers</th>\n",
       "      <th>e_div_p</th>\n",
       "    </tr>\n",
       "  </thead>\n",
       "  <tbody>\n",
       "    <tr>\n",
       "      <th>0</th>\n",
       "      <td>1.0</td>\n",
       "      <td>e-</td>\n",
       "      <td>745.830705</td>\n",
       "      <td>[0.0, 0.0, 0.0, 0.0, 0.0, 0.0, 0.0, 0.0, 0.0, ...</td>\n",
       "      <td>0.745831</td>\n",
       "    </tr>\n",
       "    <tr>\n",
       "      <th>1</th>\n",
       "      <td>1.0</td>\n",
       "      <td>e-</td>\n",
       "      <td>723.557254</td>\n",
       "      <td>[0.0, 0.0, 0.33505856326162586, 0.0, 0.0, 0.0,...</td>\n",
       "      <td>0.723557</td>\n",
       "    </tr>\n",
       "    <tr>\n",
       "      <th>2</th>\n",
       "      <td>1.0</td>\n",
       "      <td>e-</td>\n",
       "      <td>810.117192</td>\n",
       "      <td>[0.0, 0.0, 0.0, 0.0, 0.0, 0.0, 0.0, 0.0, 0.0, ...</td>\n",
       "      <td>0.810117</td>\n",
       "    </tr>\n",
       "    <tr>\n",
       "      <th>3</th>\n",
       "      <td>1.0</td>\n",
       "      <td>e-</td>\n",
       "      <td>853.066921</td>\n",
       "      <td>[0.0, 0.0, 0.0, 0.0, 0.0, 0.0, 0.0, 0.0, 0.0, ...</td>\n",
       "      <td>0.853067</td>\n",
       "    </tr>\n",
       "    <tr>\n",
       "      <th>4</th>\n",
       "      <td>1.0</td>\n",
       "      <td>e-</td>\n",
       "      <td>879.492094</td>\n",
       "      <td>[0.0, 0.0, 0.0, 0.0, 0.0, 0.0, 0.0, 0.0, 0.0, ...</td>\n",
       "      <td>0.879492</td>\n",
       "    </tr>\n",
       "  </tbody>\n",
       "</table>\n",
       "</div>"
      ],
      "text/plain": [
       "     p prt_name      de_sum  \\\n",
       "0  1.0       e-  745.830705   \n",
       "1  1.0       e-  723.557254   \n",
       "2  1.0       e-  810.117192   \n",
       "3  1.0       e-  853.066921   \n",
       "4  1.0       e-  879.492094   \n",
       "\n",
       "                                              towers   e_div_p  \n",
       "0  [0.0, 0.0, 0.0, 0.0, 0.0, 0.0, 0.0, 0.0, 0.0, ...  0.745831  \n",
       "1  [0.0, 0.0, 0.33505856326162586, 0.0, 0.0, 0.0,...  0.723557  \n",
       "2  [0.0, 0.0, 0.0, 0.0, 0.0, 0.0, 0.0, 0.0, 0.0, ...  0.810117  \n",
       "3  [0.0, 0.0, 0.0, 0.0, 0.0, 0.0, 0.0, 0.0, 0.0, ...  0.853067  \n",
       "4  [0.0, 0.0, 0.0, 0.0, 0.0, 0.0, 0.0, 0.0, 0.0, ...  0.879492  "
      ]
     },
     "execution_count": 10,
     "metadata": {},
     "output_type": "execute_result"
    }
   ],
   "source": [
    "import pandas as pd\n",
    "\n",
    "all_vals_df = pd.read_feather(\"/mnt/work/data/epi/2022-11-29_cherepaha_SciGlass-4-1-L_13x13_20x20x200mm_1-10GeV_e-pi-_10kev-each.feather\")\n",
    "all_vals_df[\"e_div_p\"] = all_vals_df.de_sum/(all_vals_df.p*1000)\n",
    "all_vals_df.head()"
   ]
  },
  {
   "cell_type": "code",
   "execution_count": 11,
   "metadata": {},
   "outputs": [],
   "source": [
    "towers = np.stack(all_vals_df.towers.to_numpy())\n",
    "np.shape(towers)\n",
    "e_answers = np.where(all_vals_df.prt_name == \"e-\", 1, 0)\n",
    "pi_answers = np.where(all_vals_df.prt_name == \"pi-\", 1, 0)\n",
    "answers = np.column_stack((e_answers, pi_answers))"
   ]
  },
  {
   "cell_type": "code",
   "execution_count": 12,
   "metadata": {},
   "outputs": [
    {
     "name": "stdout",
     "output_type": "stream",
     "text": [
      "Inputs shape original = (200000, 169)\n",
      "answers shape original = (200000, 2)\n",
      "max hit value = 5814.889844006649\n",
      "Inputs shape new = (200000, 13, 13, 1)\n",
      "Answers shape new = (200000, 2)\n"
     ]
    }
   ],
   "source": [
    "inputs = towers\n",
    "\n",
    "print(f\"Inputs shape original = {np.shape(inputs)}\")\n",
    "print(f\"answers shape original = {np.shape(answers)}\")\n",
    "print(f\"max hit value = {np.max(inputs)}\")\n",
    "# print(f\"max e = {np.max(true_e)}\")\n",
    "\n",
    "\n",
    "inputs = np.reshape(inputs, (len(inputs), 13, 13, 1))  # -1 => autodetermine\n",
    "#answers = np.reshape(answers, (len(answers), 1))  # -1 => autodetermine\n",
    "# # Pad with 1 row and column of zeroes, so it divides by 2\n",
    "#inputs = np.pad(inputs, ((0,0), (0,1), (0,1), (0,0)), mode='constant', constant_values=0)\n",
    "#answers = np.pad(answers, ((0,0), (0,1), (0,1), (0,0)), mode='constant', constant_values=0)\n",
    "print(f\"Inputs shape new = {np.shape(inputs)}\")\n",
    "print(f\"Answers shape new = {np.shape(answers)}\")\n"
   ]
  },
  {
   "cell_type": "code",
   "execution_count": 13,
   "metadata": {},
   "outputs": [],
   "source": [
    "\n",
    "# print_tabled_event(inputs[0])\n",
    "# print(answers[0])\n",
    "# #print_tabled_event(answers[0]*11)\n",
    "# #print(\"-----------------------------------\")\n",
    "# #print_tabled_event(inputs[1]*11)\n",
    "# #print_tabled_event(answers[1]*11)\n",
    "\n"
   ]
  },
  {
   "cell_type": "code",
   "execution_count": 14,
   "metadata": {},
   "outputs": [
    {
     "name": "stdout",
     "output_type": "stream",
     "text": [
      "Model: \"sequential_1\"\n",
      "_________________________________________________________________\n",
      "Layer (type)                 Output Shape              Param #   \n",
      "=================================================================\n",
      "conv2d_4 (Conv2D)            (None, 12, 12, 64)        320       \n",
      "_________________________________________________________________\n",
      "conv2d_5 (Conv2D)            (None, 11, 11, 32)        8224      \n",
      "_________________________________________________________________\n",
      "conv2d_6 (Conv2D)            (None, 10, 10, 16)        2064      \n",
      "_________________________________________________________________\n",
      "conv2d_7 (Conv2D)            (None, 9, 9, 6)           390       \n",
      "_________________________________________________________________\n",
      "flatten_1 (Flatten)          (None, 486)               0         \n",
      "_________________________________________________________________\n",
      "dense_3 (Dense)              (None, 294)               143178    \n",
      "_________________________________________________________________\n",
      "dense_4 (Dense)              (None, 100)               29500     \n",
      "_________________________________________________________________\n",
      "dense_5 (Dense)              (None, 2)                 202       \n",
      "=================================================================\n",
      "Total params: 183,878\n",
      "Trainable params: 183,878\n",
      "Non-trainable params: 0\n",
      "_________________________________________________________________\n"
     ]
    }
   ],
   "source": [
    "model = Sequential()\n",
    "model.add(Input(shape=(13, 13, 1)))\n",
    "model.add(Conv2D(64, kernel_size=(2, 2), activation='relu', kernel_initializer='he_normal'))\n",
    "model.add(Conv2D(32, kernel_size=(2, 2), activation='relu', kernel_initializer='he_normal'))\n",
    "model.add(Conv2D(16, kernel_size=(2, 2), activation='relu', kernel_initializer='he_normal'))\n",
    "model.add(Conv2D(6, kernel_size=(2, 2), activation='relu', kernel_initializer='he_normal'))\n",
    "#model.add(Dropout(0.1))\n",
    "#model.add(MaxPooling2D(pool_size=(1,1)))\n",
    "model.add(Flatten())\n",
    "## 128 -> 216\n",
    "## 64  -> 294\n",
    "model.add(Dense(294, activation='relu'))\n",
    "model.add(Dense(100, activation='relu'))\n",
    "model.add(Dense(2, activation='softmax'))\n",
    "# model.add(Dense(20, activation='relu'))\n",
    "# model.add(Dense(274, activation='relu'))\n",
    "# model.add(Dense(264, activation='relu'))\n",
    "# model.add(Dense(254, activation='relu'))\n",
    "# model.add(Dense(242, activation='relu'))\n",
    "# model.add(Dense(222, activation='relu'))\n",
    "# model.add(Dense(202, activation='relu'))\n",
    "# model.add(Dense(182, activation='relu'))\n",
    "# model.add(Dense(162, activation='relu'))\n",
    "# model.add(Dense(142, activation='relu'))\n",
    "# model.add(Dense(121, activation='relu'))\n",
    "#model.add(Conv2D(1, kernel_size=(2, 2), activation='sigmoid', padding='same'))\n",
    "model.summary()"
   ]
  },
  {
   "cell_type": "code",
   "execution_count": 15,
   "metadata": {},
   "outputs": [],
   "source": [
    "model.compile(optimizer='adam', loss='binary_crossentropy', metrics=['acc', 'mse', 'mae'])\n",
    "# output layer\n",
    "#model.compile(optimizer='adam', loss='mean_squared_error', metrics=['acc', 'mse', 'mae'])\n",
    "#model.compile(optimizer= 'adam', loss = 'binary_crossentropy')\n",
    "#model.fit(inputs, answers, epochs=25, batch_size=32, validation_split=0.2)"
   ]
  },
  {
   "cell_type": "code",
   "execution_count": 18,
   "metadata": {},
   "outputs": [
    {
     "name": "stdout",
     "output_type": "stream",
     "text": [
      "Epoch 1/5\n",
      "2500/2500 [==============================] - 24s 10ms/step - loss: 0.0472 - acc: 0.9874 - mse: 0.0103 - mae: 0.0153 - val_loss: 0.0621 - val_acc: 0.9855 - val_mse: 0.0129 - val_mae: 0.0152\n",
      "Epoch 2/5\n",
      "2500/2500 [==============================] - 24s 9ms/step - loss: 0.0349 - acc: 0.9904 - mse: 0.0081 - mae: 0.0110 - val_loss: 0.0286 - val_acc: 0.9935 - val_mse: 0.0057 - val_mae: 0.0069\n",
      "Epoch 3/5\n",
      "2500/2500 [==============================] - 24s 9ms/step - loss: 0.0303 - acc: 0.9915 - mse: 0.0072 - mae: 0.0095 - val_loss: 0.0505 - val_acc: 0.9859 - val_mse: 0.0124 - val_mae: 0.0147\n",
      "Epoch 4/5\n",
      "2500/2500 [==============================] - 23s 9ms/step - loss: 0.0271 - acc: 0.9924 - mse: 0.0065 - mae: 0.0084 - val_loss: 0.0611 - val_acc: 0.9828 - val_mse: 0.0153 - val_mae: 0.0178\n",
      "Epoch 5/5\n",
      "2500/2500 [==============================] - 23s 9ms/step - loss: 0.0231 - acc: 0.9933 - mse: 0.0057 - mae: 0.0074 - val_loss: 0.0341 - val_acc: 0.9901 - val_mse: 0.0087 - val_mae: 0.0105\n"
     ]
    }
   ],
   "source": [
    "\n",
    "history = model.fit(inputs, answers, epochs=5, batch_size=64, validation_split=0.2)"
   ]
  },
  {
   "cell_type": "code",
   "execution_count": null,
   "metadata": {},
   "outputs": [
    {
     "data": {
      "text/plain": [
       "{'verbose': 1, 'epochs': 25, 'steps': 5000}"
      ]
     },
     "execution_count": 11,
     "metadata": {},
     "output_type": "execute_result"
    }
   ],
   "source": [
    "# Set number of CPUS\n",
    "# config = tf.ConfigProto(device_count={\"CPU\": 8})\n",
    "# keras.backend.tensorflow_backend.set_session(tf.Session(config=config))\n",
    "# history = _\n",
    "# history.params"
   ]
  },
  {
   "cell_type": "code",
   "execution_count": null,
   "metadata": {},
   "outputs": [],
   "source": [
    "# Run ML on data\n",
    "\n",
    "e_min = 0.5\n",
    "e_max = 1.5\n",
    "e_1gev_df = all_vals_df.query(f\"({e_min} < p < {e_max}) and prt_name=='e-'\")\n",
    "pi_1gev_df = all_vals_df.query(f\"({e_min} < p < {e_max}) and prt_name=='pi-'\")\n",
    "e_towers = np.stack(e_1gev_df.towers.to_numpy())\n",
    "e_inputs = np.reshape(e_towers, (len(e_towers), 13, 13, 1))  # -1 => autodetermine\n",
    "ml_events_e = model.predict(e_inputs)"
   ]
  },
  {
   "cell_type": "code",
   "execution_count": null,
   "metadata": {},
   "outputs": [
    {
     "ename": "NameError",
     "evalue": "name 'ml_events_e' is not defined",
     "output_type": "error",
     "traceback": [
      "\u001b[0;31m---------------------------------------------------------------------------\u001b[0m",
      "\u001b[0;31mNameError\u001b[0m                                 Traceback (most recent call last)",
      "\u001b[1;32m/home/romanov/eic/kak-bog-cherepahu/analysis/ai_separation.ipynb Cell 11\u001b[0m in \u001b[0;36m<cell line: 1>\u001b[0;34m()\u001b[0m\n\u001b[0;32m----> <a href='vscode-notebook-cell://ssh-remote%2Bblack_cube_local/home/romanov/eic/kak-bog-cherepahu/analysis/ai_separation.ipynb#X13sdnNjb2RlLXJlbW90ZQ%3D%3D?line=0'>1</a>\u001b[0m ml_events_e[:,\u001b[39m-\u001b[39m\u001b[39m1\u001b[39m:]\n",
      "\u001b[0;31mNameError\u001b[0m: name 'ml_events_e' is not defined"
     ]
    }
   ],
   "source": [
    "ml_events_e[:,-1:]"
   ]
  },
  {
   "cell_type": "code",
   "execution_count": 19,
   "metadata": {},
   "outputs": [
    {
     "name": "stderr",
     "output_type": "stream",
     "text": [
      "2022-12-01 15:30:56.846185: W tensorflow/python/util/util.cc:348] Sets are not currently considered sequences, but this may change in the future, so consider avoiding using them.\n"
     ]
    },
    {
     "name": "stdout",
     "output_type": "stream",
     "text": [
      "INFO:tensorflow:Assets written to: trained_models/epi-convolution-model.hd5/assets\n"
     ]
    }
   ],
   "source": [
    "# Saving the model\n",
    "model.save(os.path.join('trained_models', \"epi-convolution-model.hd5\"))"
   ]
  },
  {
   "cell_type": "code",
   "execution_count": 36,
   "metadata": {},
   "outputs": [],
   "source": [
    "ml_answers = model.predict(inputs)"
   ]
  },
  {
   "cell_type": "code",
   "execution_count": 37,
   "metadata": {},
   "outputs": [
    {
     "data": {
      "text/plain": [
       "(200000,)"
      ]
     },
     "execution_count": 37,
     "metadata": {},
     "output_type": "execute_result"
    }
   ],
   "source": [
    "np.shape(answers[:,0])"
   ]
  },
  {
   "cell_type": "code",
   "execution_count": 41,
   "metadata": {},
   "outputs": [
    {
     "data": {
      "text/plain": [
       "[]"
      ]
     },
     "execution_count": 41,
     "metadata": {},
     "output_type": "execute_result"
    },
    {
     "data": {
      "image/png": "[encoded data removed]",
      "text/plain": [
       "<Figure size 432x288 with 1 Axes>"
      ]
     },
     "metadata": {
      "needs_background": "light"
     },
     "output_type": "display_data"
    }
   ],
   "source": [
    "# We can set the number of bins with the *bins* keyword argument.\n",
    "fig, axs = plt.subplots()\n",
    "e_scores = ml_answers[:,0]\n",
    "pi_scores = ml_answers[:,1]\n",
    "\n",
    "axs.axvline(x=0.5, color='red', linestyle='--', linewidth=0.8)\n",
    "axs.hist(e_scores[all_vals_df.prt_name == \"e-\"], bins=50, alpha = 0.5, edgecolor='blue', linewidth=0.3)\n",
    "axs.hist(1-pi_scores[all_vals_df.prt_name == \"pi-\"], bins=50, alpha = 0.5, edgecolor='red', linewidth=0.3)\n",
    "#plt.yscale('log')\n",
    "plt.plot()\n"
   ]
  },
  {
   "cell_type": "code",
   "execution_count": 47,
   "metadata": {},
   "outputs": [
    {
     "data": {
      "text/plain": [
       "<matplotlib.legend.Legend at 0x7f51dedf2610>"
      ]
     },
     "execution_count": 47,
     "metadata": {},
     "output_type": "execute_result"
    },
    {
     "data": {
      "image/png": "[encoded data removed]",
      "text/plain": [
       "<Figure size 432x288 with 1 Axes>"
      ]
     },
     "metadata": {
      "needs_background": "light"
     },
     "output_type": "display_data"
    }
   ],
   "source": [
    "fig, axs = plt.subplots()\n",
    "\n",
    "e_hist_data = e_scores[all_vals_df.prt_name == \"e-\"] \n",
    "pi_hist_data = 1-pi_scores[all_vals_df.prt_name == \"pi-\"]\n",
    "\n",
    "axs.hist(e_hist_data, bins=50, alpha = 0.5, edgecolor='blue', linewidth=0.3, range=(0, 1), density=True, label=\"$e^{-}$\")\n",
    "axs.hist(pi_hist_data, bins=50, alpha = 0.5, edgecolor='red', linewidth=0.3, range=(0, 1), density=True, label=\"$\\pi^{-}$\")\n",
    "axs.axvline(x=0.5, color='red', linestyle='--', linewidth=0.8, label=f\"x-score > y-score\")\n",
    "axs.plot([], [], ' ', label=\"$\\epsilon_{e^{-}}$ = 99.67%\")\n",
    "#axs.plot([], [], ' ', label=\"$\\epsilon_{\\pi^{-}}$ = \" + f\"{n_pi_above*100:.2f}%\")\n",
    "axs.legend(loc='upper center')"
   ]
  }
 ],
 "metadata": {
  "kernelspec": {
   "display_name": "Python 3.9.12 ('ai')",
   "language": "python",
   "name": "python3"
  },
  "language_info": {
   "codemirror_mode": {
    "name": "ipython",
    "version": 3
   },
   "file_extension": ".py",
   "mimetype": "text/x-python",
   "name": "python",
   "nbconvert_exporter": "python",
   "pygments_lexer": "ipython3",
   "version": "3.9.12"
  },
  "orig_nbformat": 4,
  "vscode": {
   "interpreter": {
    "hash": "f5c7603ba5c706ac0ece86f855ab939dae7cd06332146575f448356a26e0dec1"
   }
  }
 },
 "nbformat": 4,
 "nbformat_minor": 2
}
