{
 "cells": [
  {
   "cell_type": "code",
   "execution_count": 1,
   "metadata": {},
   "outputs": [
    {
     "name": "stdout",
     "output_type": "stream",
     "text": [
      "/home/romanov/anaconda3/envs/ai/bin\n"
     ]
    },
    {
     "name": "stderr",
     "output_type": "stream",
     "text": [
      "2022-12-01 09:43:36.063447: I tensorflow/stream_executor/platform/default/dso_loader.cc:49] Successfully opened dynamic library libcudart.so.10.1\n"
     ]
    },
    {
     "ename": "AttributeError",
     "evalue": "module 'tensorflow' has no attribute 'ConfigProto'",
     "output_type": "error",
     "traceback": [
      "\u001b[0;31m---------------------------------------------------------------------------\u001b[0m",
      "\u001b[0;31mAttributeError\u001b[0m                            Traceback (most recent call last)",
      "\u001b[1;32m/home/romanov/eic/kak-bog-cherepahu/analysis/ai_separation.ipynb Cell 1\u001b[0m in \u001b[0;36m<cell line: 21>\u001b[0;34m()\u001b[0m\n\u001b[1;32m     <a href='vscode-notebook-cell://ssh-remote%2Bblack_cube_local/home/romanov/eic/kak-bog-cherepahu/analysis/ai_separation.ipynb#W0sdnNjb2RlLXJlbW90ZQ%3D%3D?line=18'>19</a>\u001b[0m \u001b[39mimport\u001b[39;00m \u001b[39mkeras\u001b[39;00m\n\u001b[1;32m     <a href='vscode-notebook-cell://ssh-remote%2Bblack_cube_local/home/romanov/eic/kak-bog-cherepahu/analysis/ai_separation.ipynb#W0sdnNjb2RlLXJlbW90ZQ%3D%3D?line=19'>20</a>\u001b[0m os\u001b[39m.\u001b[39menviron[\u001b[39m\"\u001b[39m\u001b[39mCUDA_VISIBLE_DEVICES\u001b[39m\u001b[39m\"\u001b[39m] \u001b[39m=\u001b[39m \u001b[39m\"\u001b[39m\u001b[39m-1\u001b[39m\u001b[39m\"\u001b[39m\n\u001b[0;32m---> <a href='vscode-notebook-cell://ssh-remote%2Bblack_cube_local/home/romanov/eic/kak-bog-cherepahu/analysis/ai_separation.ipynb#W0sdnNjb2RlLXJlbW90ZQ%3D%3D?line=20'>21</a>\u001b[0m config \u001b[39m=\u001b[39m tf\u001b[39m.\u001b[39;49mConfigProto(device_count\u001b[39m=\u001b[39m{\u001b[39m\"\u001b[39m\u001b[39mCPU\u001b[39m\u001b[39m\"\u001b[39m: \u001b[39m30\u001b[39m})\n\u001b[1;32m     <a href='vscode-notebook-cell://ssh-remote%2Bblack_cube_local/home/romanov/eic/kak-bog-cherepahu/analysis/ai_separation.ipynb#W0sdnNjb2RlLXJlbW90ZQ%3D%3D?line=21'>22</a>\u001b[0m keras\u001b[39m.\u001b[39mbackend\u001b[39m.\u001b[39mtensorflow_backend\u001b[39m.\u001b[39mset_session(tf\u001b[39m.\u001b[39mSession(config\u001b[39m=\u001b[39mconfig))\n",
      "\u001b[0;31mAttributeError\u001b[0m: module 'tensorflow' has no attribute 'ConfigProto'"
     ]
    }
   ],
   "source": [
    "# Keras Geant3 Events to True table convolutional autoencoder\n",
    "import sys, os\n",
    "print(os.path.dirname(sys.executable))\n",
    "\n",
    "import pickle\n",
    "import time\n",
    "import os\n",
    "from sys import platform\n",
    "\n",
    "import numpy as np\n",
    "import matplotlib.pyplot as plt\n",
    "\n",
    "from event_display import print_tabled_event\n",
    "\n",
    "from keras.models import Sequential\n",
    "from keras.layers import Dense, MaxPooling2D, Conv2D, Flatten, UpSampling2D, Cropping2D, Input, Conv2DTranspose, Dropout\n",
    "from keras.utils import plot_model\n",
    "import tensorflow as tf\n",
    "import keras\n",
    "os.environ[\"CUDA_VISIBLE_DEVICES\"] = \"-1\"\n",
    "print(tf.version)\n",
    "#keras.backend.tensorflow_backend.set_session(tf.Session(config=config))\n"
   ]
  },
  {
   "cell_type": "code",
   "execution_count": null,
   "metadata": {},
   "outputs": [
    {
     "data": {
      "text/html": [
       "<div>\n",
       "<style scoped>\n",
       "    .dataframe tbody tr th:only-of-type {\n",
       "        vertical-align: middle;\n",
       "    }\n",
       "\n",
       "    .dataframe tbody tr th {\n",
       "        vertical-align: top;\n",
       "    }\n",
       "\n",
       "    .dataframe thead th {\n",
       "        text-align: right;\n",
       "    }\n",
       "</style>\n",
       "<table border=\"1\" class=\"dataframe\">\n",
       "  <thead>\n",
       "    <tr style=\"text-align: right;\">\n",
       "      <th></th>\n",
       "      <th>p</th>\n",
       "      <th>prt_name</th>\n",
       "      <th>de_sum</th>\n",
       "      <th>towers</th>\n",
       "      <th>e_div_p</th>\n",
       "    </tr>\n",
       "  </thead>\n",
       "  <tbody>\n",
       "    <tr>\n",
       "      <th>0</th>\n",
       "      <td>1.0</td>\n",
       "      <td>e-</td>\n",
       "      <td>745.830705</td>\n",
       "      <td>[0.0, 0.0, 0.0, 0.0, 0.0, 0.0, 0.0, 0.0, 0.0, ...</td>\n",
       "      <td>0.745831</td>\n",
       "    </tr>\n",
       "    <tr>\n",
       "      <th>1</th>\n",
       "      <td>1.0</td>\n",
       "      <td>e-</td>\n",
       "      <td>723.557254</td>\n",
       "      <td>[0.0, 0.0, 0.33505856326162586, 0.0, 0.0, 0.0,...</td>\n",
       "      <td>0.723557</td>\n",
       "    </tr>\n",
       "    <tr>\n",
       "      <th>2</th>\n",
       "      <td>1.0</td>\n",
       "      <td>e-</td>\n",
       "      <td>810.117192</td>\n",
       "      <td>[0.0, 0.0, 0.0, 0.0, 0.0, 0.0, 0.0, 0.0, 0.0, ...</td>\n",
       "      <td>0.810117</td>\n",
       "    </tr>\n",
       "    <tr>\n",
       "      <th>3</th>\n",
       "      <td>1.0</td>\n",
       "      <td>e-</td>\n",
       "      <td>853.066921</td>\n",
       "      <td>[0.0, 0.0, 0.0, 0.0, 0.0, 0.0, 0.0, 0.0, 0.0, ...</td>\n",
       "      <td>0.853067</td>\n",
       "    </tr>\n",
       "    <tr>\n",
       "      <th>4</th>\n",
       "      <td>1.0</td>\n",
       "      <td>e-</td>\n",
       "      <td>879.492094</td>\n",
       "      <td>[0.0, 0.0, 0.0, 0.0, 0.0, 0.0, 0.0, 0.0, 0.0, ...</td>\n",
       "      <td>0.879492</td>\n",
       "    </tr>\n",
       "  </tbody>\n",
       "</table>\n",
       "</div>"
      ],
      "text/plain": [
       "     p prt_name      de_sum  \\\n",
       "0  1.0       e-  745.830705   \n",
       "1  1.0       e-  723.557254   \n",
       "2  1.0       e-  810.117192   \n",
       "3  1.0       e-  853.066921   \n",
       "4  1.0       e-  879.492094   \n",
       "\n",
       "                                              towers   e_div_p  \n",
       "0  [0.0, 0.0, 0.0, 0.0, 0.0, 0.0, 0.0, 0.0, 0.0, ...  0.745831  \n",
       "1  [0.0, 0.0, 0.33505856326162586, 0.0, 0.0, 0.0,...  0.723557  \n",
       "2  [0.0, 0.0, 0.0, 0.0, 0.0, 0.0, 0.0, 0.0, 0.0, ...  0.810117  \n",
       "3  [0.0, 0.0, 0.0, 0.0, 0.0, 0.0, 0.0, 0.0, 0.0, ...  0.853067  \n",
       "4  [0.0, 0.0, 0.0, 0.0, 0.0, 0.0, 0.0, 0.0, 0.0, ...  0.879492  "
      ]
     },
     "execution_count": 2,
     "metadata": {},
     "output_type": "execute_result"
    }
   ],
   "source": [
    "import pandas as pd\n",
    "\n",
    "all_vals_df = pd.read_feather(\"2022-11-29_cherepaha_SciGlass-4-1-L_13x13_20x20x200mm_1-10GeV_e-pi-_10kev-each.feather\")\n",
    "all_vals_df[\"e_div_p\"] = all_vals_df.de_sum/(all_vals_df.p*1000)\n",
    "all_vals_df.head()"
   ]
  },
  {
   "cell_type": "code",
   "execution_count": null,
   "metadata": {},
   "outputs": [],
   "source": [
    "towers = np.stack(all_vals_df.towers.to_numpy())\n",
    "np.shape(towers)\n",
    "e_answers = np.where(all_vals_df.prt_name == \"e-\", 1, 0)\n",
    "pi_answers = np.where(all_vals_df.prt_name == \"pi-\", 1, 0)\n",
    "answers = np.column_stack((e_answers, pi_answers))"
   ]
  },
  {
   "cell_type": "code",
   "execution_count": null,
   "metadata": {},
   "outputs": [
    {
     "name": "stdout",
     "output_type": "stream",
     "text": [
      "Inputs shape original = (200000, 169)\n",
      "answers shape original = (200000, 2)\n",
      "max hit value = 5814.889844006649\n",
      "Inputs shape new = (200000, 13, 13, 1)\n",
      "Answers shape new = (200000, 2)\n"
     ]
    }
   ],
   "source": [
    "inputs = towers\n",
    "\n",
    "print(f\"Inputs shape original = {np.shape(inputs)}\")\n",
    "print(f\"answers shape original = {np.shape(answers)}\")\n",
    "print(f\"max hit value = {np.max(inputs)}\")\n",
    "# print(f\"max e = {np.max(true_e)}\")\n",
    "\n",
    "\n",
    "inputs = np.reshape(inputs, (len(inputs), 13, 13, 1))  # -1 => autodetermine\n",
    "#answers = np.reshape(answers, (len(answers), 1))  # -1 => autodetermine\n",
    "# # Pad with 1 row and column of zeroes, so it divides by 2\n",
    "#inputs = np.pad(inputs, ((0,0), (0,1), (0,1), (0,0)), mode='constant', constant_values=0)\n",
    "#answers = np.pad(answers, ((0,0), (0,1), (0,1), (0,0)), mode='constant', constant_values=0)\n",
    "print(f\"Inputs shape new = {np.shape(inputs)}\")\n",
    "print(f\"Answers shape new = {np.shape(answers)}\")\n"
   ]
  },
  {
   "cell_type": "code",
   "execution_count": null,
   "metadata": {},
   "outputs": [],
   "source": [
    "\n",
    "# print_tabled_event(inputs[0])\n",
    "# print(answers[0])\n",
    "# #print_tabled_event(answers[0]*11)\n",
    "# #print(\"-----------------------------------\")\n",
    "# #print_tabled_event(inputs[1]*11)\n",
    "# #print_tabled_event(answers[1]*11)\n",
    "\n"
   ]
  },
  {
   "cell_type": "code",
   "execution_count": null,
   "metadata": {},
   "outputs": [
    {
     "name": "stdout",
     "output_type": "stream",
     "text": [
      "Model: \"sequential\"\n",
      "_________________________________________________________________\n",
      "Layer (type)                 Output Shape              Param #   \n",
      "=================================================================\n",
      "conv2d (Conv2D)              (None, 12, 12, 64)        320       \n",
      "_________________________________________________________________\n",
      "conv2d_1 (Conv2D)            (None, 11, 11, 32)        8224      \n",
      "_________________________________________________________________\n",
      "conv2d_2 (Conv2D)            (None, 10, 10, 16)        2064      \n",
      "_________________________________________________________________\n",
      "conv2d_3 (Conv2D)            (None, 9, 9, 6)           390       \n",
      "_________________________________________________________________\n",
      "flatten (Flatten)            (None, 486)               0         \n",
      "_________________________________________________________________\n",
      "dense (Dense)                (None, 294)               143178    \n",
      "_________________________________________________________________\n",
      "dense_1 (Dense)              (None, 100)               29500     \n",
      "_________________________________________________________________\n",
      "dense_2 (Dense)              (None, 2)                 202       \n",
      "=================================================================\n",
      "Total params: 183,878\n",
      "Trainable params: 183,878\n",
      "Non-trainable params: 0\n",
      "_________________________________________________________________\n"
     ]
    },
    {
     "name": "stderr",
     "output_type": "stream",
     "text": [
      "2022-12-01 01:47:32.371415: I tensorflow/compiler/jit/xla_cpu_device.cc:41] Not creating XLA devices, tf_xla_enable_xla_devices not set\n",
      "2022-12-01 01:47:32.372051: I tensorflow/stream_executor/platform/default/dso_loader.cc:49] Successfully opened dynamic library libcuda.so.1\n",
      "2022-12-01 01:47:32.395210: E tensorflow/stream_executor/cuda/cuda_driver.cc:328] failed call to cuInit: CUDA_ERROR_NO_DEVICE: no CUDA-capable device is detected\n",
      "2022-12-01 01:47:32.395244: I tensorflow/stream_executor/cuda/cuda_diagnostics.cc:169] retrieving CUDA diagnostic information for host: romanov-bbox\n",
      "2022-12-01 01:47:32.395249: I tensorflow/stream_executor/cuda/cuda_diagnostics.cc:176] hostname: romanov-bbox\n",
      "2022-12-01 01:47:32.395349: I tensorflow/stream_executor/cuda/cuda_diagnostics.cc:200] libcuda reported version is: 510.85.2\n",
      "2022-12-01 01:47:32.395367: I tensorflow/stream_executor/cuda/cuda_diagnostics.cc:204] kernel reported version is: 510.85.2\n",
      "2022-12-01 01:47:32.395372: I tensorflow/stream_executor/cuda/cuda_diagnostics.cc:310] kernel version seems to match DSO: 510.85.2\n",
      "2022-12-01 01:47:32.395689: I tensorflow/core/platform/cpu_feature_guard.cc:142] This TensorFlow binary is optimized with oneAPI Deep Neural Network Library (oneDNN) to use the following CPU instructions in performance-critical operations:  SSE4.1 SSE4.2 AVX AVX2 FMA\n",
      "To enable them in other operations, rebuild TensorFlow with the appropriate compiler flags.\n",
      "2022-12-01 01:47:32.397055: I tensorflow/compiler/jit/xla_gpu_device.cc:99] Not creating XLA devices, tf_xla_enable_xla_devices not set\n"
     ]
    }
   ],
   "source": [
    "model = Sequential()\n",
    "model.add(Input(shape=(13, 13, 1)))\n",
    "model.add(Conv2D(64, kernel_size=(2, 2), activation='relu', kernel_initializer='he_normal'))\n",
    "model.add(Conv2D(32, kernel_size=(2, 2), activation='relu', kernel_initializer='he_normal'))\n",
    "model.add(Conv2D(16, kernel_size=(2, 2), activation='relu', kernel_initializer='he_normal'))\n",
    "model.add(Conv2D(6, kernel_size=(2, 2), activation='relu', kernel_initializer='he_normal'))\n",
    "#model.add(Dropout(0.1))\n",
    "#model.add(MaxPooling2D(pool_size=(1,1)))\n",
    "model.add(Flatten())\n",
    "## 128 -> 216\n",
    "## 64  -> 294\n",
    "model.add(Dense(294, activation='relu'))\n",
    "model.add(Dense(100, activation='relu'))\n",
    "model.add(Dense(2, activation='softmax'))\n",
    "# model.add(Dense(20, activation='relu'))\n",
    "# model.add(Dense(274, activation='relu'))\n",
    "# model.add(Dense(264, activation='relu'))\n",
    "# model.add(Dense(254, activation='relu'))\n",
    "# model.add(Dense(242, activation='relu'))\n",
    "# model.add(Dense(222, activation='relu'))\n",
    "# model.add(Dense(202, activation='relu'))\n",
    "# model.add(Dense(182, activation='relu'))\n",
    "# model.add(Dense(162, activation='relu'))\n",
    "# model.add(Dense(142, activation='relu'))\n",
    "# model.add(Dense(121, activation='relu'))\n",
    "#model.add(Conv2D(1, kernel_size=(2, 2), activation='sigmoid', padding='same'))\n",
    "model.summary()"
   ]
  },
  {
   "cell_type": "code",
   "execution_count": null,
   "metadata": {},
   "outputs": [],
   "source": [
    "model.compile(optimizer='adam', loss='binary_crossentropy', metrics=['acc', 'mse', 'mae'])\n",
    "# output layer\n",
    "#model.compile(optimizer='adam', loss='mean_squared_error', metrics=['acc', 'mse', 'mae'])\n",
    "#model.compile(optimizer= 'adam', loss = 'binary_crossentropy')\n",
    "#model.fit(inputs, answers, epochs=25, batch_size=32, validation_split=0.2)"
   ]
  },
  {
   "cell_type": "code",
   "execution_count": null,
   "metadata": {},
   "outputs": [
    {
     "name": "stdout",
     "output_type": "stream",
     "text": [
      "Epoch 1/25\n"
     ]
    },
    {
     "name": "stderr",
     "output_type": "stream",
     "text": [
      "2022-12-01 01:47:32.600055: I tensorflow/compiler/mlir/mlir_graph_optimization_pass.cc:116] None of the MLIR optimization passes are enabled (registered 2)\n",
      "2022-12-01 01:47:32.619216: I tensorflow/core/platform/profile_utils/cpu_utils.cc:112] CPU Frequency: 3492910000 Hz\n"
     ]
    },
    {
     "name": "stdout",
     "output_type": "stream",
     "text": [
      "5000/5000 [==============================] - 34s 7ms/step - loss: 0.3643 - acc: 0.9608 - mse: 0.0348 - mae: 0.0414 - val_loss: 0.0469 - val_acc: 0.9861 - val_mse: 0.0118 - val_mae: 0.0147\n",
      "Epoch 2/25\n",
      "5000/5000 [==============================] - 33s 7ms/step - loss: 0.0445 - acc: 0.9872 - mse: 0.0106 - mae: 0.0145 - val_loss: 0.0461 - val_acc: 0.9852 - val_mse: 0.0130 - val_mae: 0.0157\n",
      "Epoch 3/25\n",
      "5000/5000 [==============================] - 31s 6ms/step - loss: 0.0334 - acc: 0.9908 - mse: 0.0079 - mae: 0.0105 - val_loss: 0.0576 - val_acc: 0.9866 - val_mse: 0.0119 - val_mae: 0.0137\n",
      "Epoch 4/25\n",
      "5000/5000 [==============================] - 31s 6ms/step - loss: 0.0293 - acc: 0.9914 - mse: 0.0071 - mae: 0.0093 - val_loss: 0.0709 - val_acc: 0.9844 - val_mse: 0.0144 - val_mae: 0.0162\n",
      "Epoch 5/25\n",
      "5000/5000 [==============================] - 31s 6ms/step - loss: 0.0253 - acc: 0.9929 - mse: 0.0061 - mae: 0.0079 - val_loss: 0.0251 - val_acc: 0.9925 - val_mse: 0.0064 - val_mae: 0.0077\n",
      "Epoch 6/25\n",
      "5000/5000 [==============================] - 35s 7ms/step - loss: 0.0230 - acc: 0.9935 - mse: 0.0056 - mae: 0.0072 - val_loss: 0.0413 - val_acc: 0.9895 - val_mse: 0.0092 - val_mae: 0.0118\n",
      "Epoch 7/25\n",
      "5000/5000 [==============================] - 35s 7ms/step - loss: 0.0233 - acc: 0.9938 - mse: 0.0054 - mae: 0.0069 - val_loss: 0.0399 - val_acc: 0.9909 - val_mse: 0.0083 - val_mae: 0.0094\n",
      "Epoch 8/25\n",
      "5000/5000 [==============================] - 36s 7ms/step - loss: 0.0219 - acc: 0.9938 - mse: 0.0053 - mae: 0.0067 - val_loss: 0.0362 - val_acc: 0.9902 - val_mse: 0.0087 - val_mae: 0.0099\n",
      "Epoch 9/25\n",
      "5000/5000 [==============================] - 31s 6ms/step - loss: 0.0201 - acc: 0.9945 - mse: 0.0048 - mae: 0.0061 - val_loss: 0.0428 - val_acc: 0.9908 - val_mse: 0.0078 - val_mae: 0.0094\n",
      "Epoch 10/25\n",
      "5000/5000 [==============================] - 32s 6ms/step - loss: 0.0192 - acc: 0.9947 - mse: 0.0045 - mae: 0.0060 - val_loss: 0.0461 - val_acc: 0.9877 - val_mse: 0.0108 - val_mae: 0.0127\n",
      "Epoch 11/25\n",
      "5000/5000 [==============================] - 31s 6ms/step - loss: 0.0180 - acc: 0.9949 - mse: 0.0044 - mae: 0.0058 - val_loss: 0.0490 - val_acc: 0.9905 - val_mse: 0.0084 - val_mae: 0.0100\n",
      "Epoch 12/25\n",
      "5000/5000 [==============================] - 32s 6ms/step - loss: 0.0173 - acc: 0.9949 - mse: 0.0043 - mae: 0.0056 - val_loss: 0.0403 - val_acc: 0.9920 - val_mse: 0.0071 - val_mae: 0.0083\n",
      "Epoch 13/25\n",
      "5000/5000 [==============================] - 32s 6ms/step - loss: 0.0212 - acc: 0.9949 - mse: 0.0043 - mae: 0.0056 - val_loss: 0.0454 - val_acc: 0.9919 - val_mse: 0.0070 - val_mae: 0.0086\n",
      "Epoch 14/25\n",
      "5000/5000 [==============================] - 33s 7ms/step - loss: 0.0168 - acc: 0.9953 - mse: 0.0040 - mae: 0.0052 - val_loss: 0.0541 - val_acc: 0.9920 - val_mse: 0.0069 - val_mae: 0.0092\n",
      "Epoch 15/25\n",
      "5000/5000 [==============================] - 33s 7ms/step - loss: 0.0153 - acc: 0.9957 - mse: 0.0038 - mae: 0.0050 - val_loss: 0.0713 - val_acc: 0.9923 - val_mse: 0.0067 - val_mae: 0.0077\n",
      "Epoch 16/25\n",
      "5000/5000 [==============================] - 34s 7ms/step - loss: 0.0155 - acc: 0.9955 - mse: 0.0038 - mae: 0.0049 - val_loss: 0.0651 - val_acc: 0.9922 - val_mse: 0.0066 - val_mae: 0.0079\n",
      "Epoch 17/25\n",
      "5000/5000 [==============================] - 33s 7ms/step - loss: 0.0152 - acc: 0.9957 - mse: 0.0037 - mae: 0.0047 - val_loss: 0.0827 - val_acc: 0.9894 - val_mse: 0.0097 - val_mae: 0.0108\n",
      "Epoch 18/25\n",
      "5000/5000 [==============================] - 33s 7ms/step - loss: 0.0187 - acc: 0.9954 - mse: 0.0040 - mae: 0.0052 - val_loss: 0.0461 - val_acc: 0.9912 - val_mse: 0.0075 - val_mae: 0.0090\n",
      "Epoch 19/25\n",
      "5000/5000 [==============================] - 33s 7ms/step - loss: 0.0142 - acc: 0.9958 - mse: 0.0036 - mae: 0.0047 - val_loss: 0.1147 - val_acc: 0.9927 - val_mse: 0.0063 - val_mae: 0.0080\n",
      "Epoch 20/25\n",
      "5000/5000 [==============================] - 33s 7ms/step - loss: 0.0166 - acc: 0.9958 - mse: 0.0037 - mae: 0.0047 - val_loss: 0.0487 - val_acc: 0.9940 - val_mse: 0.0050 - val_mae: 0.0065\n",
      "Epoch 21/25\n",
      "5000/5000 [==============================] - 33s 7ms/step - loss: 0.0153 - acc: 0.9957 - mse: 0.0036 - mae: 0.0047 - val_loss: 0.0959 - val_acc: 0.9899 - val_mse: 0.0091 - val_mae: 0.0103\n",
      "Epoch 22/25\n",
      "5000/5000 [==============================] - 32s 6ms/step - loss: 0.0141 - acc: 0.9961 - mse: 0.0033 - mae: 0.0043 - val_loss: 0.1423 - val_acc: 0.9923 - val_mse: 0.0070 - val_mae: 0.0078\n",
      "Epoch 23/25\n",
      "5000/5000 [==============================] - 33s 7ms/step - loss: 0.0150 - acc: 0.9957 - mse: 0.0036 - mae: 0.0046 - val_loss: 0.0655 - val_acc: 0.9907 - val_mse: 0.0085 - val_mae: 0.0094\n",
      "Epoch 24/25\n",
      "5000/5000 [==============================] - 33s 7ms/step - loss: 0.0148 - acc: 0.9961 - mse: 0.0033 - mae: 0.0043 - val_loss: 0.1003 - val_acc: 0.9898 - val_mse: 0.0092 - val_mae: 0.0102\n",
      "Epoch 25/25\n",
      "5000/5000 [==============================] - 33s 7ms/step - loss: 0.0139 - acc: 0.9961 - mse: 0.0033 - mae: 0.0043 - val_loss: 0.1222 - val_acc: 0.9901 - val_mse: 0.0092 - val_mae: 0.0100\n"
     ]
    },
    {
     "data": {
      "text/plain": [
       "<tensorflow.python.keras.callbacks.History at 0x7fde153d9070>"
      ]
     },
     "execution_count": 8,
     "metadata": {},
     "output_type": "execute_result"
    }
   ],
   "source": [
    "\n",
    "history = model.fit(inputs, answers, epochs=25, batch_size=32, validation_split=0.2)"
   ]
  },
  {
   "cell_type": "code",
   "execution_count": null,
   "metadata": {},
   "outputs": [
    {
     "data": {
      "text/plain": [
       "{'verbose': 1, 'epochs': 25, 'steps': 5000}"
      ]
     },
     "execution_count": 11,
     "metadata": {},
     "output_type": "execute_result"
    }
   ],
   "source": [
    "# Set number of CPUS\n",
    "# config = tf.ConfigProto(device_count={\"CPU\": 8})\n",
    "# keras.backend.tensorflow_backend.set_session(tf.Session(config=config))\n",
    "# history = _\n",
    "# history.params"
   ]
  },
  {
   "cell_type": "code",
   "execution_count": null,
   "metadata": {},
   "outputs": [],
   "source": [
    "# Run ML on data\n",
    "\n",
    "e_min = 0.5\n",
    "e_max = 1.5\n",
    "e_1gev_df = all_vals_df.query(f\"({e_min} < p < {e_max}) and prt_name=='e-'\")\n",
    "pi_1gev_df = all_vals_df.query(f\"({e_min} < p < {e_max}) and prt_name=='pi-'\")\n",
    "e_towers = np.stack(e_1gev_df.towers.to_numpy())\n",
    "e_inputs = np.reshape(e_towers, (len(e_towers), 13, 13, 1))  # -1 => autodetermine\n",
    "ml_events_e = model.predict(e_inputs)"
   ]
  },
  {
   "cell_type": "code",
   "execution_count": null,
   "metadata": {},
   "outputs": [
    {
     "ename": "NameError",
     "evalue": "name 'ml_events_e' is not defined",
     "output_type": "error",
     "traceback": [
      "\u001b[0;31m---------------------------------------------------------------------------\u001b[0m",
      "\u001b[0;31mNameError\u001b[0m                                 Traceback (most recent call last)",
      "\u001b[1;32m/home/romanov/eic/kak-bog-cherepahu/analysis/ai_separation.ipynb Cell 11\u001b[0m in \u001b[0;36m<cell line: 1>\u001b[0;34m()\u001b[0m\n\u001b[0;32m----> <a href='vscode-notebook-cell://ssh-remote%2Bblack_cube_local/home/romanov/eic/kak-bog-cherepahu/analysis/ai_separation.ipynb#X13sdnNjb2RlLXJlbW90ZQ%3D%3D?line=0'>1</a>\u001b[0m ml_events_e[:,\u001b[39m-\u001b[39m\u001b[39m1\u001b[39m:]\n",
      "\u001b[0;31mNameError\u001b[0m: name 'ml_events_e' is not defined"
     ]
    }
   ],
   "source": [
    "ml_events_e[:,-1:]"
   ]
  },
  {
   "cell_type": "code",
   "execution_count": null,
   "metadata": {},
   "outputs": [
    {
     "ename": "NameError",
     "evalue": "name 'model' is not defined",
     "output_type": "error",
     "traceback": [
      "\u001b[0;31m---------------------------------------------------------------------------\u001b[0m",
      "\u001b[0;31mNameError\u001b[0m                                 Traceback (most recent call last)",
      "\u001b[1;32m/home/romanov/eic/kak-bog-cherepahu/analysis/ai_separation.ipynb Cell 12\u001b[0m in \u001b[0;36m<cell line: 2>\u001b[0;34m()\u001b[0m\n\u001b[1;32m      <a href='vscode-notebook-cell://ssh-remote%2Bblack_cube_local/home/romanov/eic/kak-bog-cherepahu/analysis/ai_separation.ipynb#X14sdnNjb2RlLXJlbW90ZQ%3D%3D?line=0'>1</a>\u001b[0m \u001b[39m# Saving the model\u001b[39;00m\n\u001b[0;32m----> <a href='vscode-notebook-cell://ssh-remote%2Bblack_cube_local/home/romanov/eic/kak-bog-cherepahu/analysis/ai_separation.ipynb#X14sdnNjb2RlLXJlbW90ZQ%3D%3D?line=1'>2</a>\u001b[0m model\u001b[39m.\u001b[39msave(os\u001b[39m.\u001b[39mpath\u001b[39m.\u001b[39mjoin(\u001b[39m'\u001b[39m\u001b[39mtrained_models\u001b[39m\u001b[39m'\u001b[39m, \u001b[39m\"\u001b[39m\u001b[39mepi-convolution-model.hd5\u001b[39m\u001b[39m\"\u001b[39m))\n",
      "\u001b[0;31mNameError\u001b[0m: name 'model' is not defined"
     ]
    }
   ],
   "source": [
    "# Saving the model\n",
    "model.save(os.path.join('trained_models', \"epi-convolution-model.hd5\"))"
   ]
  }
 ],
 "metadata": {
  "kernelspec": {
   "display_name": "Python 3.9.12 ('ai')",
   "language": "python",
   "name": "python3"
  },
  "language_info": {
   "codemirror_mode": {
    "name": "ipython",
    "version": 3
   },
   "file_extension": ".py",
   "mimetype": "text/x-python",
   "name": "python",
   "nbconvert_exporter": "python",
   "pygments_lexer": "ipython3",
   "version": "3.9.12"
  },
  "orig_nbformat": 4,
  "vscode": {
   "interpreter": {
    "hash": "f5c7603ba5c706ac0ece86f855ab939dae7cd06332146575f448356a26e0dec1"
   }
  }
 },
 "nbformat": 4,
 "nbformat_minor": 2
}
