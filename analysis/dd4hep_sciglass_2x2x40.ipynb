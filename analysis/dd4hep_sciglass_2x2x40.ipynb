{
 "cells": [
  {
   "cell_type": "code",
   "execution_count": 8,
   "metadata": {
    "collapsed": false
   },
   "outputs": [
    {
     "name": "stdout",
     "output_type": "stream",
     "text": [
      "Believed path is: /home/romanov/eic/kak-bog-cherepahu/analysis\n"
     ]
    }
   ],
   "source": [
    "import uproot\n",
    "import matplotlib\n",
    "import matplotlib.pyplot as plt\n",
    "import awkward as ak\n",
    "import hist\n",
    "import numpy as np\n",
    "from event_display import gdml_read_ecal_info\n",
    "import os\n",
    "import pandas as pd\n",
    "import matplotlib.patches as mpatches\n",
    "from scipy.stats import crystalball, norm\n",
    "\n",
    "%matplotlib inline\n",
    "matplotlib.rc(\"figure\", dpi=200)\n",
    "\n",
    "dir_path = os.path.dirname(os.path.realpath(\"__file__\"))\n",
    "print(f\"Believed path is: {dir_path}\")"
   ]
  },
  {
   "cell_type": "code",
   "execution_count": 9,
   "metadata": {},
   "outputs": [
    {
     "data": {
      "text/html": [
       "<div>\n",
       "<style scoped>\n",
       "    .dataframe tbody tr th:only-of-type {\n",
       "        vertical-align: middle;\n",
       "    }\n",
       "\n",
       "    .dataframe tbody tr th {\n",
       "        vertical-align: top;\n",
       "    }\n",
       "\n",
       "    .dataframe thead th {\n",
       "        text-align: right;\n",
       "    }\n",
       "</style>\n",
       "<table border=\"1\" class=\"dataframe\">\n",
       "  <thead>\n",
       "    <tr style=\"text-align: right;\">\n",
       "      <th></th>\n",
       "      <th>p</th>\n",
       "      <th>prt_name</th>\n",
       "      <th>de_sum</th>\n",
       "      <th>towers</th>\n",
       "      <th>e_div_p</th>\n",
       "    </tr>\n",
       "  </thead>\n",
       "  <tbody>\n",
       "    <tr>\n",
       "      <th>0</th>\n",
       "      <td>0.49</td>\n",
       "      <td>e-</td>\n",
       "      <td>0.671115</td>\n",
       "      <td>[0, 0]</td>\n",
       "      <td>1.369623</td>\n",
       "    </tr>\n",
       "    <tr>\n",
       "      <th>1</th>\n",
       "      <td>0.49</td>\n",
       "      <td>e-</td>\n",
       "      <td>0.675113</td>\n",
       "      <td>[0, 0]</td>\n",
       "      <td>1.377782</td>\n",
       "    </tr>\n",
       "    <tr>\n",
       "      <th>2</th>\n",
       "      <td>0.49</td>\n",
       "      <td>e-</td>\n",
       "      <td>0.674566</td>\n",
       "      <td>[0, 0]</td>\n",
       "      <td>1.376666</td>\n",
       "    </tr>\n",
       "    <tr>\n",
       "      <th>3</th>\n",
       "      <td>0.49</td>\n",
       "      <td>e-</td>\n",
       "      <td>0.658135</td>\n",
       "      <td>[0, 0]</td>\n",
       "      <td>1.343133</td>\n",
       "    </tr>\n",
       "    <tr>\n",
       "      <th>4</th>\n",
       "      <td>0.49</td>\n",
       "      <td>e-</td>\n",
       "      <td>0.668929</td>\n",
       "      <td>[0, 0]</td>\n",
       "      <td>1.365162</td>\n",
       "    </tr>\n",
       "  </tbody>\n",
       "</table>\n",
       "</div>"
      ],
      "text/plain": [
       "      p prt_name    de_sum  towers   e_div_p\n",
       "0  0.49       e-  0.671115  [0, 0]  1.369623\n",
       "1  0.49       e-  0.675113  [0, 0]  1.377782\n",
       "2  0.49       e-  0.674566  [0, 0]  1.376666\n",
       "3  0.49       e-  0.658135  [0, 0]  1.343133\n",
       "4  0.49       e-  0.668929  [0, 0]  1.365162"
      ]
     },
     "execution_count": 9,
     "metadata": {},
     "output_type": "execute_result"
    }
   ],
   "source": [
    "import pandas as pd\n",
    "\n",
    "all_vals_df = pd.read_feather(\"/mnt/work/data/epi/2022-12-02_dd4hep_SciGlass_13x13_20x20x400mm_0-10GeV_e-pi-_100kev.feather\")\n",
    "all_vals_df[\"e_div_p\"] = all_vals_df.de_sum/(all_vals_df.p)\n",
    "all_vals_df.head()"
   ]
  },
  {
   "cell_type": "code",
   "execution_count": 10,
   "metadata": {},
   "outputs": [],
   "source": [
    "def make_2sigma_separation(e_df, pi_df):\n",
    "    # Fit with crystalball and gauss\n",
    "    cb_beta, cb_m, cb_loc, cb_scale = crystalball.fit(e_df.e_div_p, loc=0.6)\n",
    "    norm_loc, norm_scale = norm.fit(e_df.e_div_p)\n",
    "    print(cb_beta, cb_m, cb_loc, cb_scale)\n",
    "    print(norm_loc, norm_scale)\n",
    "\n",
    "    # where we separate\n",
    "    separ_x = cb_loc - norm_scale*3\n",
    "    n_pi_above_num = np.size(pi_df.query(f\"e_div_p > {separ_x}\").e_div_p)\n",
    "    n_e_below_num = np.size(e_df.query(f\"e_div_p <= {separ_x}\").e_div_p)\n",
    "    n_e_above_num = np.size(e_df.query(f\"e_div_p > {separ_x}\").e_div_p)\n",
    "\n",
    "    n_pi_above = n_pi_above_num / np.size(pi_df.e_div_p)\n",
    "    n_e_below = n_e_below_num / np.size(e_df.e_div_p)\n",
    "    n_e_above = n_e_above_num / np.size(e_df.e_div_p)\n",
    "\n",
    "    print(separ_x, n_pi_above, n_e_below, n_e_above, np.size(e_df.e_div_p))\n",
    "\n",
    "    # We can set the number of bins with the *bins* keyword argument.\n",
    "    fig, axs = plt.subplots()    \n",
    "    axs.hist(e_df.e_div_p, bins=50, alpha = 0.5, edgecolor='blue', linewidth=0.3, range=(0, 1), density=True, label=\"$e^{-}$\")\n",
    "    axs.hist(pi_df.e_div_p, bins=50, alpha = 0.5, edgecolor='red', linewidth=0.3, range=(0, 1), density=True, label=\"$\\pi^{-}$\")\n",
    "    axs.axvline(x=separ_x, color='red', linestyle='--', linewidth=0.8, label=f\"peak-3$\\sigma$ = {separ_x:.2f}\")\n",
    "    axs.plot([], [], ' ', label=\"$\\epsilon_{e^{-}}$ = \" + f\"{n_e_above*100:.2f}%\")\n",
    "    axs.plot([], [], ' ', label=\"$\\epsilon_{\\pi^{-}}$ = \" + f\"{n_pi_above*100:.2f}%\")\n",
    "    axs.legend(loc='best')\n",
    "    # txt = ax.text(0.5, 0.5, f\"{separ_x}\\n {n_pi_above}, {n_e_below}, {n_e_above}\")\n",
    "    # txt.set_clip_on(False)\n",
    "    # handles, labels = plt.get_legend_handles_labels()\n",
    "    # handles.append(mpatches.Patch(color='none', label=extraString))\n",
    "    # plt.legend(handles=handles)\n",
    "    # # txt.set_clip_on(False)  # this will turn clipping off (always visible)\n",
    "    # plt.plot()\n",
    "\n",
    "def df_make_separation(df, e_center, range=1):\n",
    "    e_min = e_center - 0.1*range\n",
    "    e_max = e_center + 0.1*range\n",
    "    e_filtered_df = all_vals_df.query(f\"({e_min} < p < {e_max}) and prt_name=='e-'\")\n",
    "    pi_filtered_df = all_vals_df.query(f\"({e_min} < p < {e_max}) and prt_name=='pi-'\")\n",
    "\n",
    "    make_2sigma_separation(e_filtered_df, pi_filtered_df)\n"
   ]
  },
  {
   "cell_type": "code",
   "execution_count": null,
   "metadata": {},
   "outputs": [],
   "source": []
  },
  {
   "cell_type": "code",
   "execution_count": 11,
   "metadata": {},
   "outputs": [
    {
     "name": "stderr",
     "output_type": "stream",
     "text": [
      "/usr/local/lib/python3.8/dist-packages/scipy/stats/_distn_infrastructure.py:2603: RuntimeWarning: Mean of empty slice.\n",
      "  muhat = tmp.mean()\n",
      "/usr/local/lib/python3.8/dist-packages/numpy/core/_methods.py:189: RuntimeWarning: invalid value encountered in double_scalars\n",
      "  ret = ret.dtype.type(ret / rcount)\n",
      "/usr/local/lib/python3.8/dist-packages/scipy/stats/_distn_infrastructure.py:2604: RuntimeWarning: Degrees of freedom <= 0 for slice\n",
      "  mu2hat = tmp.var()\n",
      "/usr/local/lib/python3.8/dist-packages/numpy/core/_methods.py:222: RuntimeWarning: invalid value encountered in true_divide\n",
      "  arrmean = um.true_divide(arrmean, div, out=arrmean, casting='unsafe',\n",
      "/usr/local/lib/python3.8/dist-packages/numpy/core/_methods.py:254: RuntimeWarning: invalid value encountered in double_scalars\n",
      "  ret = ret.dtype.type(ret / rcount)\n"
     ]
    },
    {
     "ename": "ValueError",
     "evalue": "zero-size array to reduction operation minimum which has no identity",
     "output_type": "error",
     "traceback": [
      "\u001b[0;31m---------------------------------------------------------------------------\u001b[0m",
      "\u001b[0;31mValueError\u001b[0m                                Traceback (most recent call last)",
      "\u001b[1;32m/home/romanov/eic/kak-bog-cherepahu/analysis/dd4hep_sciglass_2x2x40.ipynb Cell 5\u001b[0m in \u001b[0;36m<cell line: 1>\u001b[0;34m()\u001b[0m\n\u001b[0;32m----> <a href='vscode-notebook-cell://ssh-remote%2Bblack_cube_local/home/romanov/eic/kak-bog-cherepahu/analysis/dd4hep_sciglass_2x2x40.ipynb#W3sdnNjb2RlLXJlbW90ZQ%3D%3D?line=0'>1</a>\u001b[0m df_make_separation(all_vals_df, \u001b[39m0.5\u001b[39;49m, \u001b[39m0.1\u001b[39;49m)\n",
      "\u001b[1;32m/home/romanov/eic/kak-bog-cherepahu/analysis/dd4hep_sciglass_2x2x40.ipynb Cell 5\u001b[0m in \u001b[0;36mdf_make_separation\u001b[0;34m(df, e_center, range)\u001b[0m\n\u001b[1;32m     <a href='vscode-notebook-cell://ssh-remote%2Bblack_cube_local/home/romanov/eic/kak-bog-cherepahu/analysis/dd4hep_sciglass_2x2x40.ipynb#W3sdnNjb2RlLXJlbW90ZQ%3D%3D?line=38'>39</a>\u001b[0m e_filtered_df \u001b[39m=\u001b[39m all_vals_df\u001b[39m.\u001b[39mquery(\u001b[39mf\u001b[39m\u001b[39m\"\u001b[39m\u001b[39m(\u001b[39m\u001b[39m{\u001b[39;00me_min\u001b[39m}\u001b[39;00m\u001b[39m < p < \u001b[39m\u001b[39m{\u001b[39;00me_max\u001b[39m}\u001b[39;00m\u001b[39m) and prt_name==\u001b[39m\u001b[39m'\u001b[39m\u001b[39me-\u001b[39m\u001b[39m'\u001b[39m\u001b[39m\"\u001b[39m)\n\u001b[1;32m     <a href='vscode-notebook-cell://ssh-remote%2Bblack_cube_local/home/romanov/eic/kak-bog-cherepahu/analysis/dd4hep_sciglass_2x2x40.ipynb#W3sdnNjb2RlLXJlbW90ZQ%3D%3D?line=39'>40</a>\u001b[0m pi_filtered_df \u001b[39m=\u001b[39m all_vals_df\u001b[39m.\u001b[39mquery(\u001b[39mf\u001b[39m\u001b[39m\"\u001b[39m\u001b[39m(\u001b[39m\u001b[39m{\u001b[39;00me_min\u001b[39m}\u001b[39;00m\u001b[39m < p < \u001b[39m\u001b[39m{\u001b[39;00me_max\u001b[39m}\u001b[39;00m\u001b[39m) and prt_name==\u001b[39m\u001b[39m'\u001b[39m\u001b[39mpi-\u001b[39m\u001b[39m'\u001b[39m\u001b[39m\"\u001b[39m)\n\u001b[0;32m---> <a href='vscode-notebook-cell://ssh-remote%2Bblack_cube_local/home/romanov/eic/kak-bog-cherepahu/analysis/dd4hep_sciglass_2x2x40.ipynb#W3sdnNjb2RlLXJlbW90ZQ%3D%3D?line=41'>42</a>\u001b[0m make_2sigma_separation(e_filtered_df, pi_filtered_df)\n",
      "\u001b[1;32m/home/romanov/eic/kak-bog-cherepahu/analysis/dd4hep_sciglass_2x2x40.ipynb Cell 5\u001b[0m in \u001b[0;36mmake_2sigma_separation\u001b[0;34m(e_df, pi_df)\u001b[0m\n\u001b[1;32m      <a href='vscode-notebook-cell://ssh-remote%2Bblack_cube_local/home/romanov/eic/kak-bog-cherepahu/analysis/dd4hep_sciglass_2x2x40.ipynb#W3sdnNjb2RlLXJlbW90ZQ%3D%3D?line=0'>1</a>\u001b[0m \u001b[39mdef\u001b[39;00m \u001b[39mmake_2sigma_separation\u001b[39m(e_df, pi_df):\n\u001b[1;32m      <a href='vscode-notebook-cell://ssh-remote%2Bblack_cube_local/home/romanov/eic/kak-bog-cherepahu/analysis/dd4hep_sciglass_2x2x40.ipynb#W3sdnNjb2RlLXJlbW90ZQ%3D%3D?line=1'>2</a>\u001b[0m     \u001b[39m# Fit with crystalball and gauss\u001b[39;00m\n\u001b[0;32m----> <a href='vscode-notebook-cell://ssh-remote%2Bblack_cube_local/home/romanov/eic/kak-bog-cherepahu/analysis/dd4hep_sciglass_2x2x40.ipynb#W3sdnNjb2RlLXJlbW90ZQ%3D%3D?line=2'>3</a>\u001b[0m     cb_beta, cb_m, cb_loc, cb_scale \u001b[39m=\u001b[39m crystalball\u001b[39m.\u001b[39;49mfit(e_df\u001b[39m.\u001b[39;49me_div_p, loc\u001b[39m=\u001b[39;49m\u001b[39m0.6\u001b[39;49m)\n\u001b[1;32m      <a href='vscode-notebook-cell://ssh-remote%2Bblack_cube_local/home/romanov/eic/kak-bog-cherepahu/analysis/dd4hep_sciglass_2x2x40.ipynb#W3sdnNjb2RlLXJlbW90ZQ%3D%3D?line=3'>4</a>\u001b[0m     norm_loc, norm_scale \u001b[39m=\u001b[39m norm\u001b[39m.\u001b[39mfit(e_df\u001b[39m.\u001b[39me_div_p)\n\u001b[1;32m      <a href='vscode-notebook-cell://ssh-remote%2Bblack_cube_local/home/romanov/eic/kak-bog-cherepahu/analysis/dd4hep_sciglass_2x2x40.ipynb#W3sdnNjb2RlLXJlbW90ZQ%3D%3D?line=4'>5</a>\u001b[0m     \u001b[39mprint\u001b[39m(cb_beta, cb_m, cb_loc, cb_scale)\n",
      "File \u001b[0;32m/usr/local/lib/python3.8/dist-packages/scipy/stats/_distn_infrastructure.py:2479\u001b[0m, in \u001b[0;36mrv_continuous.fit\u001b[0;34m(self, data, *args, **kwds)\u001b[0m\n\u001b[1;32m   2475\u001b[0m start \u001b[39m=\u001b[39m [\u001b[39mNone\u001b[39;00m]\u001b[39m*\u001b[39m\u001b[39m2\u001b[39m\n\u001b[1;32m   2476\u001b[0m \u001b[39mif\u001b[39;00m (Narg \u001b[39m<\u001b[39m \u001b[39mself\u001b[39m\u001b[39m.\u001b[39mnumargs) \u001b[39mor\u001b[39;00m \u001b[39mnot\u001b[39;00m (\u001b[39m'\u001b[39m\u001b[39mloc\u001b[39m\u001b[39m'\u001b[39m \u001b[39min\u001b[39;00m kwds \u001b[39mand\u001b[39;00m\n\u001b[1;32m   2477\u001b[0m                                  \u001b[39m'\u001b[39m\u001b[39mscale\u001b[39m\u001b[39m'\u001b[39m \u001b[39min\u001b[39;00m kwds):\n\u001b[1;32m   2478\u001b[0m     \u001b[39m# get distribution specific starting locations\u001b[39;00m\n\u001b[0;32m-> 2479\u001b[0m     start \u001b[39m=\u001b[39m \u001b[39mself\u001b[39;49m\u001b[39m.\u001b[39;49m_fitstart(data)\n\u001b[1;32m   2480\u001b[0m     args \u001b[39m+\u001b[39m\u001b[39m=\u001b[39m start[Narg:\u001b[39m-\u001b[39m\u001b[39m2\u001b[39m]\n\u001b[1;32m   2481\u001b[0m loc \u001b[39m=\u001b[39m kwds\u001b[39m.\u001b[39mpop(\u001b[39m'\u001b[39m\u001b[39mloc\u001b[39m\u001b[39m'\u001b[39m, start[\u001b[39m-\u001b[39m\u001b[39m2\u001b[39m])\n",
      "File \u001b[0;32m/usr/local/lib/python3.8/dist-packages/scipy/stats/_distn_infrastructure.py:2245\u001b[0m, in \u001b[0;36mrv_continuous._fitstart\u001b[0;34m(self, data, args)\u001b[0m\n\u001b[1;32m   2243\u001b[0m \u001b[39mif\u001b[39;00m args \u001b[39mis\u001b[39;00m \u001b[39mNone\u001b[39;00m:\n\u001b[1;32m   2244\u001b[0m     args \u001b[39m=\u001b[39m (\u001b[39m1.0\u001b[39m,)\u001b[39m*\u001b[39m\u001b[39mself\u001b[39m\u001b[39m.\u001b[39mnumargs\n\u001b[0;32m-> 2245\u001b[0m loc, scale \u001b[39m=\u001b[39m \u001b[39mself\u001b[39;49m\u001b[39m.\u001b[39;49m_fit_loc_scale_support(data, \u001b[39m*\u001b[39;49margs)\n\u001b[1;32m   2246\u001b[0m \u001b[39mreturn\u001b[39;00m args \u001b[39m+\u001b[39m (loc, scale)\n",
      "File \u001b[0;32m/usr/local/lib/python3.8/dist-packages/scipy/stats/_distn_infrastructure.py:2556\u001b[0m, in \u001b[0;36mrv_continuous._fit_loc_scale_support\u001b[0;34m(self, data, *args)\u001b[0m\n\u001b[1;32m   2553\u001b[0m b_hat \u001b[39m=\u001b[39m loc_hat \u001b[39m+\u001b[39m b \u001b[39m*\u001b[39m scale_hat\n\u001b[1;32m   2555\u001b[0m \u001b[39m# Use the moment-based estimates if they are compatible with the data.\u001b[39;00m\n\u001b[0;32m-> 2556\u001b[0m data_a \u001b[39m=\u001b[39m np\u001b[39m.\u001b[39;49mmin(data)\n\u001b[1;32m   2557\u001b[0m data_b \u001b[39m=\u001b[39m np\u001b[39m.\u001b[39mmax(data)\n\u001b[1;32m   2558\u001b[0m \u001b[39mif\u001b[39;00m a_hat \u001b[39m<\u001b[39m data_a \u001b[39mand\u001b[39;00m data_b \u001b[39m<\u001b[39m b_hat:\n",
      "File \u001b[0;32m<__array_function__ internals>:5\u001b[0m, in \u001b[0;36mamin\u001b[0;34m(*args, **kwargs)\u001b[0m\n",
      "File \u001b[0;32m/usr/local/lib/python3.8/dist-packages/numpy/core/fromnumeric.py:2879\u001b[0m, in \u001b[0;36mamin\u001b[0;34m(a, axis, out, keepdims, initial, where)\u001b[0m\n\u001b[1;32m   2763\u001b[0m \u001b[39m@array_function_dispatch\u001b[39m(_amin_dispatcher)\n\u001b[1;32m   2764\u001b[0m \u001b[39mdef\u001b[39;00m \u001b[39mamin\u001b[39m(a, axis\u001b[39m=\u001b[39m\u001b[39mNone\u001b[39;00m, out\u001b[39m=\u001b[39m\u001b[39mNone\u001b[39;00m, keepdims\u001b[39m=\u001b[39mnp\u001b[39m.\u001b[39m_NoValue, initial\u001b[39m=\u001b[39mnp\u001b[39m.\u001b[39m_NoValue,\n\u001b[1;32m   2765\u001b[0m          where\u001b[39m=\u001b[39mnp\u001b[39m.\u001b[39m_NoValue):\n\u001b[1;32m   2766\u001b[0m     \u001b[39m\"\"\"\u001b[39;00m\n\u001b[1;32m   2767\u001b[0m \u001b[39m    Return the minimum of an array or minimum along an axis.\u001b[39;00m\n\u001b[1;32m   2768\u001b[0m \n\u001b[0;32m   (...)\u001b[0m\n\u001b[1;32m   2877\u001b[0m \u001b[39m    6\u001b[39;00m\n\u001b[1;32m   2878\u001b[0m \u001b[39m    \"\"\"\u001b[39;00m\n\u001b[0;32m-> 2879\u001b[0m     \u001b[39mreturn\u001b[39;00m _wrapreduction(a, np\u001b[39m.\u001b[39;49mminimum, \u001b[39m'\u001b[39;49m\u001b[39mmin\u001b[39;49m\u001b[39m'\u001b[39;49m, axis, \u001b[39mNone\u001b[39;49;00m, out,\n\u001b[1;32m   2880\u001b[0m                           keepdims\u001b[39m=\u001b[39;49mkeepdims, initial\u001b[39m=\u001b[39;49minitial, where\u001b[39m=\u001b[39;49mwhere)\n",
      "File \u001b[0;32m/usr/local/lib/python3.8/dist-packages/numpy/core/fromnumeric.py:86\u001b[0m, in \u001b[0;36m_wrapreduction\u001b[0;34m(obj, ufunc, method, axis, dtype, out, **kwargs)\u001b[0m\n\u001b[1;32m     83\u001b[0m         \u001b[39melse\u001b[39;00m:\n\u001b[1;32m     84\u001b[0m             \u001b[39mreturn\u001b[39;00m reduction(axis\u001b[39m=\u001b[39maxis, out\u001b[39m=\u001b[39mout, \u001b[39m*\u001b[39m\u001b[39m*\u001b[39mpasskwargs)\n\u001b[0;32m---> 86\u001b[0m \u001b[39mreturn\u001b[39;00m ufunc\u001b[39m.\u001b[39;49mreduce(obj, axis, dtype, out, \u001b[39m*\u001b[39;49m\u001b[39m*\u001b[39;49mpasskwargs)\n",
      "\u001b[0;31mValueError\u001b[0m: zero-size array to reduction operation minimum which has no identity"
     ]
    }
   ],
   "source": [
    "df_make_separation(all_vals_df, 0.5, 0.1)\n"
   ]
  },
  {
   "cell_type": "code",
   "execution_count": null,
   "metadata": {},
   "outputs": [
    {
     "name": "stderr",
     "output_type": "stream",
     "text": [
      "/usr/local/lib/python3.8/dist-packages/scipy/stats/_distn_infrastructure.py:2603: RuntimeWarning: Mean of empty slice.\n",
      "  muhat = tmp.mean()\n",
      "/usr/local/lib/python3.8/dist-packages/numpy/core/_methods.py:189: RuntimeWarning: invalid value encountered in double_scalars\n",
      "  ret = ret.dtype.type(ret / rcount)\n",
      "/usr/local/lib/python3.8/dist-packages/scipy/stats/_distn_infrastructure.py:2604: RuntimeWarning: Degrees of freedom <= 0 for slice\n",
      "  mu2hat = tmp.var()\n",
      "/usr/local/lib/python3.8/dist-packages/numpy/core/_methods.py:222: RuntimeWarning: invalid value encountered in true_divide\n",
      "  arrmean = um.true_divide(arrmean, div, out=arrmean, casting='unsafe',\n",
      "/usr/local/lib/python3.8/dist-packages/numpy/core/_methods.py:254: RuntimeWarning: invalid value encountered in double_scalars\n",
      "  ret = ret.dtype.type(ret / rcount)\n"
     ]
    },
    {
     "ename": "ValueError",
     "evalue": "zero-size array to reduction operation minimum which has no identity",
     "output_type": "error",
     "traceback": [
      "\u001b[0;31m---------------------------------------------------------------------------\u001b[0m",
      "\u001b[0;31mValueError\u001b[0m                                Traceback (most recent call last)",
      "\u001b[1;32m/home/romanov/eic/kak-bog-cherepahu/analysis/dd4hep_sciglass_2x2x40.ipynb Cell 5\u001b[0m in \u001b[0;36m<cell line: 1>\u001b[0;34m()\u001b[0m\n\u001b[0;32m----> <a href='vscode-notebook-cell://ssh-remote%2Bblack_cube_local/home/romanov/eic/kak-bog-cherepahu/analysis/dd4hep_sciglass_2x2x40.ipynb#W4sdnNjb2RlLXJlbW90ZQ%3D%3D?line=0'>1</a>\u001b[0m df_make_separation(all_vals_df, \u001b[39m0.7\u001b[39;49m, \u001b[39m0.1\u001b[39;49m)\n",
      "\u001b[1;32m/home/romanov/eic/kak-bog-cherepahu/analysis/dd4hep_sciglass_2x2x40.ipynb Cell 5\u001b[0m in \u001b[0;36mdf_make_separation\u001b[0;34m(df, e_center, range)\u001b[0m\n\u001b[1;32m     <a href='vscode-notebook-cell://ssh-remote%2Bblack_cube_local/home/romanov/eic/kak-bog-cherepahu/analysis/dd4hep_sciglass_2x2x40.ipynb#W4sdnNjb2RlLXJlbW90ZQ%3D%3D?line=38'>39</a>\u001b[0m e_filtered_df \u001b[39m=\u001b[39m all_vals_df\u001b[39m.\u001b[39mquery(\u001b[39mf\u001b[39m\u001b[39m\"\u001b[39m\u001b[39m(\u001b[39m\u001b[39m{\u001b[39;00me_min\u001b[39m}\u001b[39;00m\u001b[39m < p < \u001b[39m\u001b[39m{\u001b[39;00me_max\u001b[39m}\u001b[39;00m\u001b[39m) and prt_name==\u001b[39m\u001b[39m'\u001b[39m\u001b[39me-\u001b[39m\u001b[39m'\u001b[39m\u001b[39m\"\u001b[39m)\n\u001b[1;32m     <a href='vscode-notebook-cell://ssh-remote%2Bblack_cube_local/home/romanov/eic/kak-bog-cherepahu/analysis/dd4hep_sciglass_2x2x40.ipynb#W4sdnNjb2RlLXJlbW90ZQ%3D%3D?line=39'>40</a>\u001b[0m pi_filtered_df \u001b[39m=\u001b[39m all_vals_df\u001b[39m.\u001b[39mquery(\u001b[39mf\u001b[39m\u001b[39m\"\u001b[39m\u001b[39m(\u001b[39m\u001b[39m{\u001b[39;00me_min\u001b[39m}\u001b[39;00m\u001b[39m < p < \u001b[39m\u001b[39m{\u001b[39;00me_max\u001b[39m}\u001b[39;00m\u001b[39m) and prt_name==\u001b[39m\u001b[39m'\u001b[39m\u001b[39mpi-\u001b[39m\u001b[39m'\u001b[39m\u001b[39m\"\u001b[39m)\n\u001b[0;32m---> <a href='vscode-notebook-cell://ssh-remote%2Bblack_cube_local/home/romanov/eic/kak-bog-cherepahu/analysis/dd4hep_sciglass_2x2x40.ipynb#W4sdnNjb2RlLXJlbW90ZQ%3D%3D?line=41'>42</a>\u001b[0m make_2sigma_separation(e_filtered_df, pi_filtered_df)\n",
      "\u001b[1;32m/home/romanov/eic/kak-bog-cherepahu/analysis/dd4hep_sciglass_2x2x40.ipynb Cell 5\u001b[0m in \u001b[0;36mmake_2sigma_separation\u001b[0;34m(e_df, pi_df)\u001b[0m\n\u001b[1;32m      <a href='vscode-notebook-cell://ssh-remote%2Bblack_cube_local/home/romanov/eic/kak-bog-cherepahu/analysis/dd4hep_sciglass_2x2x40.ipynb#W4sdnNjb2RlLXJlbW90ZQ%3D%3D?line=0'>1</a>\u001b[0m \u001b[39mdef\u001b[39;00m \u001b[39mmake_2sigma_separation\u001b[39m(e_df, pi_df):\n\u001b[1;32m      <a href='vscode-notebook-cell://ssh-remote%2Bblack_cube_local/home/romanov/eic/kak-bog-cherepahu/analysis/dd4hep_sciglass_2x2x40.ipynb#W4sdnNjb2RlLXJlbW90ZQ%3D%3D?line=1'>2</a>\u001b[0m     \u001b[39m# Fit with crystalball and gauss\u001b[39;00m\n\u001b[0;32m----> <a href='vscode-notebook-cell://ssh-remote%2Bblack_cube_local/home/romanov/eic/kak-bog-cherepahu/analysis/dd4hep_sciglass_2x2x40.ipynb#W4sdnNjb2RlLXJlbW90ZQ%3D%3D?line=2'>3</a>\u001b[0m     cb_beta, cb_m, cb_loc, cb_scale \u001b[39m=\u001b[39m crystalball\u001b[39m.\u001b[39;49mfit(e_df\u001b[39m.\u001b[39;49me_div_p, loc\u001b[39m=\u001b[39;49m\u001b[39m0.6\u001b[39;49m)\n\u001b[1;32m      <a href='vscode-notebook-cell://ssh-remote%2Bblack_cube_local/home/romanov/eic/kak-bog-cherepahu/analysis/dd4hep_sciglass_2x2x40.ipynb#W4sdnNjb2RlLXJlbW90ZQ%3D%3D?line=3'>4</a>\u001b[0m     norm_loc, norm_scale \u001b[39m=\u001b[39m norm\u001b[39m.\u001b[39mfit(e_df\u001b[39m.\u001b[39me_div_p)\n\u001b[1;32m      <a href='vscode-notebook-cell://ssh-remote%2Bblack_cube_local/home/romanov/eic/kak-bog-cherepahu/analysis/dd4hep_sciglass_2x2x40.ipynb#W4sdnNjb2RlLXJlbW90ZQ%3D%3D?line=4'>5</a>\u001b[0m     \u001b[39mprint\u001b[39m(cb_beta, cb_m, cb_loc, cb_scale)\n",
      "File \u001b[0;32m/usr/local/lib/python3.8/dist-packages/scipy/stats/_distn_infrastructure.py:2479\u001b[0m, in \u001b[0;36mrv_continuous.fit\u001b[0;34m(self, data, *args, **kwds)\u001b[0m\n\u001b[1;32m   2475\u001b[0m start \u001b[39m=\u001b[39m [\u001b[39mNone\u001b[39;00m]\u001b[39m*\u001b[39m\u001b[39m2\u001b[39m\n\u001b[1;32m   2476\u001b[0m \u001b[39mif\u001b[39;00m (Narg \u001b[39m<\u001b[39m \u001b[39mself\u001b[39m\u001b[39m.\u001b[39mnumargs) \u001b[39mor\u001b[39;00m \u001b[39mnot\u001b[39;00m (\u001b[39m'\u001b[39m\u001b[39mloc\u001b[39m\u001b[39m'\u001b[39m \u001b[39min\u001b[39;00m kwds \u001b[39mand\u001b[39;00m\n\u001b[1;32m   2477\u001b[0m                                  \u001b[39m'\u001b[39m\u001b[39mscale\u001b[39m\u001b[39m'\u001b[39m \u001b[39min\u001b[39;00m kwds):\n\u001b[1;32m   2478\u001b[0m     \u001b[39m# get distribution specific starting locations\u001b[39;00m\n\u001b[0;32m-> 2479\u001b[0m     start \u001b[39m=\u001b[39m \u001b[39mself\u001b[39;49m\u001b[39m.\u001b[39;49m_fitstart(data)\n\u001b[1;32m   2480\u001b[0m     args \u001b[39m+\u001b[39m\u001b[39m=\u001b[39m start[Narg:\u001b[39m-\u001b[39m\u001b[39m2\u001b[39m]\n\u001b[1;32m   2481\u001b[0m loc \u001b[39m=\u001b[39m kwds\u001b[39m.\u001b[39mpop(\u001b[39m'\u001b[39m\u001b[39mloc\u001b[39m\u001b[39m'\u001b[39m, start[\u001b[39m-\u001b[39m\u001b[39m2\u001b[39m])\n",
      "File \u001b[0;32m/usr/local/lib/python3.8/dist-packages/scipy/stats/_distn_infrastructure.py:2245\u001b[0m, in \u001b[0;36mrv_continuous._fitstart\u001b[0;34m(self, data, args)\u001b[0m\n\u001b[1;32m   2243\u001b[0m \u001b[39mif\u001b[39;00m args \u001b[39mis\u001b[39;00m \u001b[39mNone\u001b[39;00m:\n\u001b[1;32m   2244\u001b[0m     args \u001b[39m=\u001b[39m (\u001b[39m1.0\u001b[39m,)\u001b[39m*\u001b[39m\u001b[39mself\u001b[39m\u001b[39m.\u001b[39mnumargs\n\u001b[0;32m-> 2245\u001b[0m loc, scale \u001b[39m=\u001b[39m \u001b[39mself\u001b[39;49m\u001b[39m.\u001b[39;49m_fit_loc_scale_support(data, \u001b[39m*\u001b[39;49margs)\n\u001b[1;32m   2246\u001b[0m \u001b[39mreturn\u001b[39;00m args \u001b[39m+\u001b[39m (loc, scale)\n",
      "File \u001b[0;32m/usr/local/lib/python3.8/dist-packages/scipy/stats/_distn_infrastructure.py:2556\u001b[0m, in \u001b[0;36mrv_continuous._fit_loc_scale_support\u001b[0;34m(self, data, *args)\u001b[0m\n\u001b[1;32m   2553\u001b[0m b_hat \u001b[39m=\u001b[39m loc_hat \u001b[39m+\u001b[39m b \u001b[39m*\u001b[39m scale_hat\n\u001b[1;32m   2555\u001b[0m \u001b[39m# Use the moment-based estimates if they are compatible with the data.\u001b[39;00m\n\u001b[0;32m-> 2556\u001b[0m data_a \u001b[39m=\u001b[39m np\u001b[39m.\u001b[39;49mmin(data)\n\u001b[1;32m   2557\u001b[0m data_b \u001b[39m=\u001b[39m np\u001b[39m.\u001b[39mmax(data)\n\u001b[1;32m   2558\u001b[0m \u001b[39mif\u001b[39;00m a_hat \u001b[39m<\u001b[39m data_a \u001b[39mand\u001b[39;00m data_b \u001b[39m<\u001b[39m b_hat:\n",
      "File \u001b[0;32m<__array_function__ internals>:5\u001b[0m, in \u001b[0;36mamin\u001b[0;34m(*args, **kwargs)\u001b[0m\n",
      "File \u001b[0;32m/usr/local/lib/python3.8/dist-packages/numpy/core/fromnumeric.py:2879\u001b[0m, in \u001b[0;36mamin\u001b[0;34m(a, axis, out, keepdims, initial, where)\u001b[0m\n\u001b[1;32m   2763\u001b[0m \u001b[39m@array_function_dispatch\u001b[39m(_amin_dispatcher)\n\u001b[1;32m   2764\u001b[0m \u001b[39mdef\u001b[39;00m \u001b[39mamin\u001b[39m(a, axis\u001b[39m=\u001b[39m\u001b[39mNone\u001b[39;00m, out\u001b[39m=\u001b[39m\u001b[39mNone\u001b[39;00m, keepdims\u001b[39m=\u001b[39mnp\u001b[39m.\u001b[39m_NoValue, initial\u001b[39m=\u001b[39mnp\u001b[39m.\u001b[39m_NoValue,\n\u001b[1;32m   2765\u001b[0m          where\u001b[39m=\u001b[39mnp\u001b[39m.\u001b[39m_NoValue):\n\u001b[1;32m   2766\u001b[0m     \u001b[39m\"\"\"\u001b[39;00m\n\u001b[1;32m   2767\u001b[0m \u001b[39m    Return the minimum of an array or minimum along an axis.\u001b[39;00m\n\u001b[1;32m   2768\u001b[0m \n\u001b[0;32m   (...)\u001b[0m\n\u001b[1;32m   2877\u001b[0m \u001b[39m    6\u001b[39;00m\n\u001b[1;32m   2878\u001b[0m \u001b[39m    \"\"\"\u001b[39;00m\n\u001b[0;32m-> 2879\u001b[0m     \u001b[39mreturn\u001b[39;00m _wrapreduction(a, np\u001b[39m.\u001b[39;49mminimum, \u001b[39m'\u001b[39;49m\u001b[39mmin\u001b[39;49m\u001b[39m'\u001b[39;49m, axis, \u001b[39mNone\u001b[39;49;00m, out,\n\u001b[1;32m   2880\u001b[0m                           keepdims\u001b[39m=\u001b[39;49mkeepdims, initial\u001b[39m=\u001b[39;49minitial, where\u001b[39m=\u001b[39;49mwhere)\n",
      "File \u001b[0;32m/usr/local/lib/python3.8/dist-packages/numpy/core/fromnumeric.py:86\u001b[0m, in \u001b[0;36m_wrapreduction\u001b[0;34m(obj, ufunc, method, axis, dtype, out, **kwargs)\u001b[0m\n\u001b[1;32m     83\u001b[0m         \u001b[39melse\u001b[39;00m:\n\u001b[1;32m     84\u001b[0m             \u001b[39mreturn\u001b[39;00m reduction(axis\u001b[39m=\u001b[39maxis, out\u001b[39m=\u001b[39mout, \u001b[39m*\u001b[39m\u001b[39m*\u001b[39mpasskwargs)\n\u001b[0;32m---> 86\u001b[0m \u001b[39mreturn\u001b[39;00m ufunc\u001b[39m.\u001b[39;49mreduce(obj, axis, dtype, out, \u001b[39m*\u001b[39;49m\u001b[39m*\u001b[39;49mpasskwargs)\n",
      "\u001b[0;31mValueError\u001b[0m: zero-size array to reduction operation minimum which has no identity"
     ]
    }
   ],
   "source": [
    "df_make_separation(all_vals_df, 0.7, 0.1)"
   ]
  },
  {
   "cell_type": "code",
   "execution_count": null,
   "metadata": {},
   "outputs": [],
   "source": [
    "df_make_separation(all_vals_df, 1, 0.1)"
   ]
  },
  {
   "cell_type": "code",
   "execution_count": null,
   "metadata": {},
   "outputs": [],
   "source": [
    "df_make_separation(all_vals_df, 2, 0.1)"
   ]
  },
  {
   "cell_type": "code",
   "execution_count": null,
   "metadata": {},
   "outputs": [],
   "source": [
    "df_make_separation(all_vals_df, 5, 0.1)"
   ]
  },
  {
   "cell_type": "code",
   "execution_count": null,
   "metadata": {},
   "outputs": [],
   "source": [
    "df_make_separation(all_vals_df, 10, 0.1)"
   ]
  }
 ],
 "metadata": {
  "kernelspec": {
   "display_name": "Python 3.8.10 64-bit",
   "language": "python",
   "name": "python3"
  },
  "language_info": {
   "codemirror_mode": {
    "name": "ipython",
    "version": 3
   },
   "file_extension": ".py",
   "mimetype": "text/x-python",
   "name": "python",
   "nbconvert_exporter": "python",
   "pygments_lexer": "ipython3",
   "version": "3.8.10"
  },
  "vscode": {
   "interpreter": {
    "hash": "31f2aee4e71d21fbe5cf8b01ff0e069b9275f58929596ceb00d14d90e3e16cd6"
   }
  }
 },
 "nbformat": 4,
 "nbformat_minor": 0
}
